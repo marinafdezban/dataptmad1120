{
 "cells": [
  {
   "cell_type": "markdown",
   "metadata": {},
   "source": [
    "# Introduction to NumPy\n",
    "\n",
    "\n",
    "#### 1. Import NumPy under the name np."
   ]
  },
  {
   "cell_type": "code",
   "execution_count": 1,
   "metadata": {},
   "outputs": [],
   "source": [
    "# your code here\n",
    "import numpy as np"
   ]
  },
  {
   "cell_type": "markdown",
   "metadata": {},
   "source": [
    "#### 2. Print your NumPy version."
   ]
  },
  {
   "cell_type": "code",
   "execution_count": 2,
   "metadata": {},
   "outputs": [
    {
     "name": "stdout",
     "output_type": "stream",
     "text": [
      "1.19.2\n"
     ]
    }
   ],
   "source": [
    "# your code here\n",
    "print(np.__version__)"
   ]
  },
  {
   "cell_type": "markdown",
   "metadata": {},
   "source": [
    "#### 3. Generate a 2x3x5 3-dimensional array with random values. Assign the array to variable *a*.\n",
    "**Challenge**: there are at least three easy ways that use numpy to generate random arrays. How many ways can you find?"
   ]
  },
  {
   "cell_type": "code",
   "execution_count": 6,
   "metadata": {},
   "outputs": [
    {
     "data": {
      "text/plain": [
       "array([[[[0.50331195, 0.57996182, 0.41000603, 0.74642178, 0.65537696],\n",
       "         [0.68523813, 0.80060387, 0.3894204 , 0.44053141, 0.84523531],\n",
       "         [0.62027667, 0.56547605, 0.66170134, 0.98302693, 0.68362925]],\n",
       "\n",
       "        [[0.42111714, 0.70604752, 0.16012738, 0.29370085, 0.75826614],\n",
       "         [0.57832517, 0.31907121, 0.91777995, 0.77806096, 0.49972652],\n",
       "         [0.06347544, 0.10038333, 0.50598502, 0.80272482, 0.32006469]]],\n",
       "\n",
       "\n",
       "       [[[0.04498757, 0.18981931, 0.33695742, 0.41898283, 0.10814645],\n",
       "         [0.35551995, 0.07476209, 0.33936539, 0.71725028, 0.21413277],\n",
       "         [0.32867842, 0.84891811, 0.75728474, 0.98876263, 0.85548906]],\n",
       "\n",
       "        [[0.3585332 , 0.70063831, 0.30392579, 0.20220975, 0.77884765],\n",
       "         [0.8636852 , 0.67517922, 0.89428948, 0.57749937, 0.51100454],\n",
       "         [0.53899909, 0.03435058, 0.25579496, 0.62672919, 0.38271883]]],\n",
       "\n",
       "\n",
       "       [[[0.52849525, 0.60984942, 0.811902  , 0.2306912 , 0.28326752],\n",
       "         [0.25304476, 0.38352471, 0.98797842, 0.08006943, 0.25074391],\n",
       "         [0.97047007, 0.61637106, 0.53378454, 0.9461419 , 0.06188965]],\n",
       "\n",
       "        [[0.69585047, 0.62435507, 0.89376503, 0.02559199, 0.04913066],\n",
       "         [0.5089979 , 0.67933079, 0.4685439 , 0.25684396, 0.59473383],\n",
       "         [0.1800964 , 0.79878022, 0.07813986, 0.10042425, 0.90110463]]]])"
      ]
     },
     "execution_count": 6,
     "metadata": {},
     "output_type": "execute_result"
    }
   ],
   "source": [
    "# Method 1\n",
    "a = np.random.random((3,2,3,5))\n",
    "a"
   ]
  },
  {
   "cell_type": "code",
   "execution_count": 10,
   "metadata": {},
   "outputs": [
    {
     "data": {
      "text/plain": [
       "array([[[[37, 27,  8, 23, 45],\n",
       "         [ 8, 24, 43, 20, 44],\n",
       "         [34, 10, 48, 48, 30]],\n",
       "\n",
       "        [[12,  4, 34, 35, 41],\n",
       "         [49, 11, 45,  9, 17],\n",
       "         [12,  5,  6,  8,  0]]],\n",
       "\n",
       "\n",
       "       [[[26, 27,  3, 21,  1],\n",
       "         [42, 18, 38, 38,  9],\n",
       "         [22, 26, 23, 21, 37]],\n",
       "\n",
       "        [[49, 10,  3,  4, 13],\n",
       "         [16, 38, 34, 40, 27],\n",
       "         [ 4, 11, 33, 43, 35]]],\n",
       "\n",
       "\n",
       "       [[[31, 29,  4, 19, 17],\n",
       "         [36,  9, 32, 49, 25],\n",
       "         [39, 16, 41, 49, 42]],\n",
       "\n",
       "        [[27,  7, 38, 33, 43],\n",
       "         [16,  3, 10, 16, 18],\n",
       "         [ 6, 47, 47, 11, 38]]]])"
      ]
     },
     "execution_count": 10,
     "metadata": {},
     "output_type": "execute_result"
    }
   ],
   "source": [
    "# Method 2\n",
    "a = np.random.randint(low = 0, high = 50, size = (3,2,3,5))\n",
    "a"
   ]
  },
  {
   "cell_type": "code",
   "execution_count": 15,
   "metadata": {},
   "outputs": [
    {
     "data": {
      "text/plain": [
       "array([[[[0.35289584, 0.20656512, 0.21454572, 0.50573805, 0.0762349 ],\n",
       "         [0.9433217 , 0.10813142, 0.30365116, 0.64833714, 0.03667949],\n",
       "         [0.20110069, 0.24597092, 0.65770498, 0.48755566, 0.61181611]],\n",
       "\n",
       "        [[0.48471655, 0.44433111, 0.67760708, 0.69492411, 0.53279993],\n",
       "         [0.27327355, 0.63167026, 0.25408729, 0.03842397, 0.8357928 ],\n",
       "         [0.66182202, 0.678831  , 0.99626826, 0.31465829, 0.90215431]]],\n",
       "\n",
       "\n",
       "       [[[0.05798528, 0.49278282, 0.88183906, 0.93702074, 0.47246835],\n",
       "         [0.89945258, 0.88002711, 0.06762243, 0.07165266, 0.71856483],\n",
       "         [0.89476638, 0.76148476, 0.18513709, 0.25031793, 0.09162373]],\n",
       "\n",
       "        [[0.79823339, 0.16877161, 0.8326052 , 0.55862245, 0.95655046],\n",
       "         [0.47425433, 0.60563217, 0.22169093, 0.00205953, 0.85078031],\n",
       "         [0.68363334, 0.3995058 , 0.68303202, 0.01823963, 0.6687979 ]]],\n",
       "\n",
       "\n",
       "       [[[0.28277996, 0.75440933, 0.75125063, 0.7398279 , 0.88010196],\n",
       "         [0.83640869, 0.41756892, 0.90149661, 0.43843792, 0.35201519],\n",
       "         [0.88030345, 0.00489652, 0.18785637, 0.40810931, 0.63886682]],\n",
       "\n",
       "        [[0.63596244, 0.79900417, 0.5369609 , 0.04030961, 0.28583904],\n",
       "         [0.1956511 , 0.7244165 , 0.75131972, 0.87316098, 0.38458882],\n",
       "         [0.68038654, 0.97804866, 0.61184704, 0.15306752, 0.24893071]]]])"
      ]
     },
     "execution_count": 15,
     "metadata": {},
     "output_type": "execute_result"
    }
   ],
   "source": [
    "# Method 3\n",
    "a = np.random.rand(3,2,3,5)\n",
    "a"
   ]
  },
  {
   "cell_type": "markdown",
   "metadata": {},
   "source": [
    "#### 4. Print *a*.\n"
   ]
  },
  {
   "cell_type": "code",
   "execution_count": 16,
   "metadata": {},
   "outputs": [
    {
     "name": "stdout",
     "output_type": "stream",
     "text": [
      "[[[[0.35289584 0.20656512 0.21454572 0.50573805 0.0762349 ]\n",
      "   [0.9433217  0.10813142 0.30365116 0.64833714 0.03667949]\n",
      "   [0.20110069 0.24597092 0.65770498 0.48755566 0.61181611]]\n",
      "\n",
      "  [[0.48471655 0.44433111 0.67760708 0.69492411 0.53279993]\n",
      "   [0.27327355 0.63167026 0.25408729 0.03842397 0.8357928 ]\n",
      "   [0.66182202 0.678831   0.99626826 0.31465829 0.90215431]]]\n",
      "\n",
      "\n",
      " [[[0.05798528 0.49278282 0.88183906 0.93702074 0.47246835]\n",
      "   [0.89945258 0.88002711 0.06762243 0.07165266 0.71856483]\n",
      "   [0.89476638 0.76148476 0.18513709 0.25031793 0.09162373]]\n",
      "\n",
      "  [[0.79823339 0.16877161 0.8326052  0.55862245 0.95655046]\n",
      "   [0.47425433 0.60563217 0.22169093 0.00205953 0.85078031]\n",
      "   [0.68363334 0.3995058  0.68303202 0.01823963 0.6687979 ]]]\n",
      "\n",
      "\n",
      " [[[0.28277996 0.75440933 0.75125063 0.7398279  0.88010196]\n",
      "   [0.83640869 0.41756892 0.90149661 0.43843792 0.35201519]\n",
      "   [0.88030345 0.00489652 0.18785637 0.40810931 0.63886682]]\n",
      "\n",
      "  [[0.63596244 0.79900417 0.5369609  0.04030961 0.28583904]\n",
      "   [0.1956511  0.7244165  0.75131972 0.87316098 0.38458882]\n",
      "   [0.68038654 0.97804866 0.61184704 0.15306752 0.24893071]]]]\n"
     ]
    }
   ],
   "source": [
    "# your code here\n",
    "print(a)"
   ]
  },
  {
   "cell_type": "markdown",
   "metadata": {},
   "source": [
    "#### 5. Create a 5x2x3 3-dimensional array with all values equaling 1. Assign the array to variable *b*."
   ]
  },
  {
   "cell_type": "code",
   "execution_count": 17,
   "metadata": {},
   "outputs": [],
   "source": [
    "# your code here\n",
    "b = np.ones((3,5,2,3))"
   ]
  },
  {
   "cell_type": "markdown",
   "metadata": {},
   "source": [
    "#### 6. Print *b*.\n"
   ]
  },
  {
   "cell_type": "code",
   "execution_count": 19,
   "metadata": {},
   "outputs": [
    {
     "name": "stdout",
     "output_type": "stream",
     "text": [
      "[[[[1. 1. 1.]\n",
      "   [1. 1. 1.]]\n",
      "\n",
      "  [[1. 1. 1.]\n",
      "   [1. 1. 1.]]\n",
      "\n",
      "  [[1. 1. 1.]\n",
      "   [1. 1. 1.]]\n",
      "\n",
      "  [[1. 1. 1.]\n",
      "   [1. 1. 1.]]\n",
      "\n",
      "  [[1. 1. 1.]\n",
      "   [1. 1. 1.]]]\n",
      "\n",
      "\n",
      " [[[1. 1. 1.]\n",
      "   [1. 1. 1.]]\n",
      "\n",
      "  [[1. 1. 1.]\n",
      "   [1. 1. 1.]]\n",
      "\n",
      "  [[1. 1. 1.]\n",
      "   [1. 1. 1.]]\n",
      "\n",
      "  [[1. 1. 1.]\n",
      "   [1. 1. 1.]]\n",
      "\n",
      "  [[1. 1. 1.]\n",
      "   [1. 1. 1.]]]\n",
      "\n",
      "\n",
      " [[[1. 1. 1.]\n",
      "   [1. 1. 1.]]\n",
      "\n",
      "  [[1. 1. 1.]\n",
      "   [1. 1. 1.]]\n",
      "\n",
      "  [[1. 1. 1.]\n",
      "   [1. 1. 1.]]\n",
      "\n",
      "  [[1. 1. 1.]\n",
      "   [1. 1. 1.]]\n",
      "\n",
      "  [[1. 1. 1.]\n",
      "   [1. 1. 1.]]]]\n"
     ]
    }
   ],
   "source": [
    "# your code here\n",
    "print(b)"
   ]
  },
  {
   "cell_type": "markdown",
   "metadata": {},
   "source": [
    "#### 7. Do *a* and *b* have the same size? How do you prove that in Python code?"
   ]
  },
  {
   "cell_type": "code",
   "execution_count": 22,
   "metadata": {},
   "outputs": [
    {
     "name": "stdout",
     "output_type": "stream",
     "text": [
      "True\n"
     ]
    }
   ],
   "source": [
    "# your code here\n",
    "if a.size == b.size:\n",
    "    print('True')\n",
    "else:\n",
    "    print('False')"
   ]
  },
  {
   "cell_type": "markdown",
   "metadata": {},
   "source": [
    "#### 8. Are you able to add *a* and *b*? Why or why not?\n"
   ]
  },
  {
   "cell_type": "code",
   "execution_count": 24,
   "metadata": {},
   "outputs": [],
   "source": [
    "# your answer here\n",
    "#No, because their shapes are differents. We would need to reshape one of they array to being able to add them."
   ]
  },
  {
   "cell_type": "markdown",
   "metadata": {},
   "source": [
    "#### 9. Transpose *b* so that it has the same structure of *a* (i.e. become a 2x3x5 array). Assign the transposed array to variable *c*."
   ]
  },
  {
   "cell_type": "code",
   "execution_count": 25,
   "metadata": {},
   "outputs": [
    {
     "data": {
      "text/plain": [
       "array([[[[1., 1., 1., 1., 1.],\n",
       "         [1., 1., 1., 1., 1.],\n",
       "         [1., 1., 1., 1., 1.]],\n",
       "\n",
       "        [[1., 1., 1., 1., 1.],\n",
       "         [1., 1., 1., 1., 1.],\n",
       "         [1., 1., 1., 1., 1.]]],\n",
       "\n",
       "\n",
       "       [[[1., 1., 1., 1., 1.],\n",
       "         [1., 1., 1., 1., 1.],\n",
       "         [1., 1., 1., 1., 1.]],\n",
       "\n",
       "        [[1., 1., 1., 1., 1.],\n",
       "         [1., 1., 1., 1., 1.],\n",
       "         [1., 1., 1., 1., 1.]]],\n",
       "\n",
       "\n",
       "       [[[1., 1., 1., 1., 1.],\n",
       "         [1., 1., 1., 1., 1.],\n",
       "         [1., 1., 1., 1., 1.]],\n",
       "\n",
       "        [[1., 1., 1., 1., 1.],\n",
       "         [1., 1., 1., 1., 1.],\n",
       "         [1., 1., 1., 1., 1.]]]])"
      ]
     },
     "execution_count": 25,
     "metadata": {},
     "output_type": "execute_result"
    }
   ],
   "source": [
    "# your code here\n",
    "c = np.reshape(b, (3,2,3,5))\n",
    "c"
   ]
  },
  {
   "cell_type": "markdown",
   "metadata": {},
   "source": [
    "#### 10. Try to add *a* and *c*. Now it should work. Assign the sum to variable *d*. But why does it work now?"
   ]
  },
  {
   "cell_type": "code",
   "execution_count": 26,
   "metadata": {},
   "outputs": [
    {
     "data": {
      "text/plain": [
       "array([[[[1.35289584, 1.20656512, 1.21454572, 1.50573805, 1.0762349 ],\n",
       "         [1.9433217 , 1.10813142, 1.30365116, 1.64833714, 1.03667949],\n",
       "         [1.20110069, 1.24597092, 1.65770498, 1.48755566, 1.61181611]],\n",
       "\n",
       "        [[1.48471655, 1.44433111, 1.67760708, 1.69492411, 1.53279993],\n",
       "         [1.27327355, 1.63167026, 1.25408729, 1.03842397, 1.8357928 ],\n",
       "         [1.66182202, 1.678831  , 1.99626826, 1.31465829, 1.90215431]]],\n",
       "\n",
       "\n",
       "       [[[1.05798528, 1.49278282, 1.88183906, 1.93702074, 1.47246835],\n",
       "         [1.89945258, 1.88002711, 1.06762243, 1.07165266, 1.71856483],\n",
       "         [1.89476638, 1.76148476, 1.18513709, 1.25031793, 1.09162373]],\n",
       "\n",
       "        [[1.79823339, 1.16877161, 1.8326052 , 1.55862245, 1.95655046],\n",
       "         [1.47425433, 1.60563217, 1.22169093, 1.00205953, 1.85078031],\n",
       "         [1.68363334, 1.3995058 , 1.68303202, 1.01823963, 1.6687979 ]]],\n",
       "\n",
       "\n",
       "       [[[1.28277996, 1.75440933, 1.75125063, 1.7398279 , 1.88010196],\n",
       "         [1.83640869, 1.41756892, 1.90149661, 1.43843792, 1.35201519],\n",
       "         [1.88030345, 1.00489652, 1.18785637, 1.40810931, 1.63886682]],\n",
       "\n",
       "        [[1.63596244, 1.79900417, 1.5369609 , 1.04030961, 1.28583904],\n",
       "         [1.1956511 , 1.7244165 , 1.75131972, 1.87316098, 1.38458882],\n",
       "         [1.68038654, 1.97804866, 1.61184704, 1.15306752, 1.24893071]]]])"
      ]
     },
     "execution_count": 26,
     "metadata": {},
     "output_type": "execute_result"
    }
   ],
   "source": [
    "# your code/answer here\n",
    "d = np.add(a,c)\n",
    "d\n",
    "#It does work now because both arrays have the same shape. "
   ]
  },
  {
   "cell_type": "markdown",
   "metadata": {},
   "source": [
    "#### 11. Print *a* and *d*. Notice the difference and relation of the two array in terms of the values? Explain."
   ]
  },
  {
   "cell_type": "code",
   "execution_count": 34,
   "metadata": {},
   "outputs": [
    {
     "name": "stdout",
     "output_type": "stream",
     "text": [
      "Array A: [[[[0.35289584 0.20656512 0.21454572 0.50573805 0.0762349 ]\n",
      "   [0.9433217  0.10813142 0.30365116 0.64833714 0.03667949]\n",
      "   [0.20110069 0.24597092 0.65770498 0.48755566 0.61181611]]\n",
      "\n",
      "  [[0.48471655 0.44433111 0.67760708 0.69492411 0.53279993]\n",
      "   [0.27327355 0.63167026 0.25408729 0.03842397 0.8357928 ]\n",
      "   [0.66182202 0.678831   0.99626826 0.31465829 0.90215431]]]\n",
      "\n",
      "\n",
      " [[[0.05798528 0.49278282 0.88183906 0.93702074 0.47246835]\n",
      "   [0.89945258 0.88002711 0.06762243 0.07165266 0.71856483]\n",
      "   [0.89476638 0.76148476 0.18513709 0.25031793 0.09162373]]\n",
      "\n",
      "  [[0.79823339 0.16877161 0.8326052  0.55862245 0.95655046]\n",
      "   [0.47425433 0.60563217 0.22169093 0.00205953 0.85078031]\n",
      "   [0.68363334 0.3995058  0.68303202 0.01823963 0.6687979 ]]]\n",
      "\n",
      "\n",
      " [[[0.28277996 0.75440933 0.75125063 0.7398279  0.88010196]\n",
      "   [0.83640869 0.41756892 0.90149661 0.43843792 0.35201519]\n",
      "   [0.88030345 0.00489652 0.18785637 0.40810931 0.63886682]]\n",
      "\n",
      "  [[0.63596244 0.79900417 0.5369609  0.04030961 0.28583904]\n",
      "   [0.1956511  0.7244165  0.75131972 0.87316098 0.38458882]\n",
      "   [0.68038654 0.97804866 0.61184704 0.15306752 0.24893071]]]]\n",
      "   \n",
      "Array D: [[[[1.35289584 1.20656512 1.21454572 1.50573805 1.0762349 ]\n",
      "   [1.9433217  1.10813142 1.30365116 1.64833714 1.03667949]\n",
      "   [1.20110069 1.24597092 1.65770498 1.48755566 1.61181611]]\n",
      "\n",
      "  [[1.48471655 1.44433111 1.67760708 1.69492411 1.53279993]\n",
      "   [1.27327355 1.63167026 1.25408729 1.03842397 1.8357928 ]\n",
      "   [1.66182202 1.678831   1.99626826 1.31465829 1.90215431]]]\n",
      "\n",
      "\n",
      " [[[1.05798528 1.49278282 1.88183906 1.93702074 1.47246835]\n",
      "   [1.89945258 1.88002711 1.06762243 1.07165266 1.71856483]\n",
      "   [1.89476638 1.76148476 1.18513709 1.25031793 1.09162373]]\n",
      "\n",
      "  [[1.79823339 1.16877161 1.8326052  1.55862245 1.95655046]\n",
      "   [1.47425433 1.60563217 1.22169093 1.00205953 1.85078031]\n",
      "   [1.68363334 1.3995058  1.68303202 1.01823963 1.6687979 ]]]\n",
      "\n",
      "\n",
      " [[[1.28277996 1.75440933 1.75125063 1.7398279  1.88010196]\n",
      "   [1.83640869 1.41756892 1.90149661 1.43843792 1.35201519]\n",
      "   [1.88030345 1.00489652 1.18785637 1.40810931 1.63886682]]\n",
      "\n",
      "  [[1.63596244 1.79900417 1.5369609  1.04030961 1.28583904]\n",
      "   [1.1956511  1.7244165  1.75131972 1.87316098 1.38458882]\n",
      "   [1.68038654 1.97804866 1.61184704 1.15306752 1.24893071]]]]\n"
     ]
    }
   ],
   "source": [
    "# your code/answer here\n",
    "print('Array A: ' + str(a))\n",
    "\n",
    "print('   ')\n",
    "\n",
    "print('Array D: ' + str(d))\n",
    "\n",
    "#Array D has the same values as A but with +1.00"
   ]
  },
  {
   "cell_type": "markdown",
   "metadata": {},
   "source": [
    "#### 12. Multiply *a* and *c*. Assign the result to *e*."
   ]
  },
  {
   "cell_type": "code",
   "execution_count": null,
   "metadata": {},
   "outputs": [],
   "source": [
    "# your code here"
   ]
  },
  {
   "cell_type": "markdown",
   "metadata": {},
   "source": [
    "#### 13. Does *e* equal to *a*? Why or why not?\n"
   ]
  },
  {
   "cell_type": "code",
   "execution_count": null,
   "metadata": {},
   "outputs": [],
   "source": [
    "# your code/answer here"
   ]
  },
  {
   "cell_type": "markdown",
   "metadata": {},
   "source": [
    "#### 14. Identify the max, min, and mean values in *d*. Assign those values to variables *d_max*, *d_min* and *d_mean*."
   ]
  },
  {
   "cell_type": "code",
   "execution_count": null,
   "metadata": {},
   "outputs": [],
   "source": [
    "# your code here"
   ]
  },
  {
   "cell_type": "markdown",
   "metadata": {},
   "source": [
    "#### 15. Now we want to label the values in *d*. First create an empty array *f* with the same shape (i.e. 2x3x5) as *d* using `np.empty`.\n"
   ]
  },
  {
   "cell_type": "code",
   "execution_count": null,
   "metadata": {},
   "outputs": [],
   "source": [
    "# your code here"
   ]
  },
  {
   "cell_type": "markdown",
   "metadata": {},
   "source": [
    "#### 16. Populate the values in *f*. \n",
    "\n",
    "For each value in *d*, if it's larger than *d_min* but smaller than *d_mean*, assign 25 to the corresponding value in *f*. If a value in *d* is larger than *d_mean* but smaller than *d_max*, assign 75 to the corresponding value in *f*. If a value equals to *d_mean*, assign 50 to the corresponding value in *f*. Assign 0 to the corresponding value(s) in *f* for *d_min* in *d*. Assign 100 to the corresponding value(s) in *f* for *d_max* in *d*. In the end, f should have only the following values: 0, 25, 50, 75, and 100.\n",
    "\n",
    "**Note**: you don't have to use Numpy in this question."
   ]
  },
  {
   "cell_type": "code",
   "execution_count": 1,
   "metadata": {},
   "outputs": [],
   "source": [
    "# your code here"
   ]
  },
  {
   "cell_type": "markdown",
   "metadata": {},
   "source": [
    "#### 17. Print *d* and *f*. Do you have your expected *f*?\n",
    "For instance, if your *d* is:\n",
    "```python\n",
    "[[[1.85836099, 1.67064465, 1.62576044, 1.40243961, 1.88454931],\n",
    "[1.75354326, 1.69403643, 1.36729252, 1.61415071, 1.12104981],\n",
    "[1.72201435, 1.1862918 , 1.87078449, 1.7726778 , 1.88180042]],\n",
    "[[1.44747908, 1.31673383, 1.02000951, 1.52218947, 1.97066381],\n",
    "[1.79129243, 1.74983003, 1.96028037, 1.85166831, 1.65450881],\n",
    "[1.18068344, 1.9587381 , 1.00656599, 1.93402165, 1.73514584]]]\n",
    "```\n",
    "Your *f* should be:\n",
    "```python\n",
    "[[[ 75.,  75.,  75.,  25.,  75.],\n",
    "[ 75.,  75.,  25.,  25.,  25.],\n",
    "[ 75.,  25.,  75.,  75.,  75.]],\n",
    "[[ 25.,  25.,  25.,  25., 100.],\n",
    "[ 75.,  75.,  75.,  75.,  75.],\n",
    "[ 25.,  75.,   0.,  75.,  75.]]]\n",
    "```"
   ]
  },
  {
   "cell_type": "code",
   "execution_count": null,
   "metadata": {},
   "outputs": [],
   "source": [
    "# your code here"
   ]
  },
  {
   "cell_type": "markdown",
   "metadata": {},
   "source": [
    "#### 18. Bonus question: instead of using numbers (i.e. 0, 25, 50, 75, and 100), use string values  (\"A\", \"B\", \"C\", \"D\", and \"E\") to label the array elements. For the example above, the expected result is:\n",
    "\n",
    "```python\n",
    "[[[ 'D',  'D',  'D',  'B',  'D'],\n",
    "[ 'D',  'D',  'B',  'B',  'B'],\n",
    "[ 'D',  'B',  'D',  'D',  'D']],\n",
    "[[ 'B',  'B',  'B',  'B',  'E'],\n",
    "[ 'D',  'D',  'D',  'D',  'D'],\n",
    "[ 'B',  'D',   'A',  'D', 'D']]]\n",
    "```\n",
    "**Note**: you don't have to use Numpy in this question."
   ]
  },
  {
   "cell_type": "code",
   "execution_count": null,
   "metadata": {},
   "outputs": [],
   "source": [
    "# your code here"
   ]
  }
 ],
 "metadata": {
  "kernelspec": {
   "display_name": "Python [conda env:ironhack_env]",
   "language": "python",
   "name": "conda-env-ironhack_env-py"
  },
  "language_info": {
   "codemirror_mode": {
    "name": "ipython",
    "version": 3
   },
   "file_extension": ".py",
   "mimetype": "text/x-python",
   "name": "python",
   "nbconvert_exporter": "python",
   "pygments_lexer": "ipython3",
   "version": "3.8.5"
  }
 },
 "nbformat": 4,
 "nbformat_minor": 4
}
