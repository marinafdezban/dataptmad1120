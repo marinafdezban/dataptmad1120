{
 "cells": [
  {
   "cell_type": "markdown",
   "metadata": {},
   "source": [
    "# Introduction to NumPy\n",
    "\n",
    "\n",
    "#### 1. Import NumPy under the name np."
   ]
  },
  {
   "cell_type": "code",
   "execution_count": 1,
   "metadata": {},
   "outputs": [],
   "source": [
    "# your code here\n",
    "import numpy as np"
   ]
  },
  {
   "cell_type": "markdown",
   "metadata": {},
   "source": [
    "#### 2. Print your NumPy version."
   ]
  },
  {
   "cell_type": "code",
   "execution_count": 2,
   "metadata": {},
   "outputs": [
    {
     "name": "stdout",
     "output_type": "stream",
     "text": [
      "1.19.2\n"
     ]
    }
   ],
   "source": [
    "# your code here\n",
    "print(np.__version__)"
   ]
  },
  {
   "cell_type": "markdown",
   "metadata": {},
   "source": [
    "#### 3. Generate a 2x3x5 3-dimensional array with random values. Assign the array to variable *a*.\n",
    "**Challenge**: there are at least three easy ways that use numpy to generate random arrays. How many ways can you find?"
   ]
  },
  {
   "cell_type": "code",
   "execution_count": 3,
   "metadata": {},
   "outputs": [
    {
     "data": {
      "text/plain": [
       "array([[[0.38916254, 0.34639965, 0.10123705, 0.48458719, 0.33424825],\n",
       "        [0.60454163, 0.58880574, 0.72853346, 0.15629269, 0.2555806 ],\n",
       "        [0.24529438, 0.54953361, 0.79232536, 0.99731695, 0.47332743]],\n",
       "\n",
       "       [[0.83420838, 0.69850036, 0.45136179, 0.62307859, 0.1194553 ],\n",
       "        [0.43376853, 0.4564736 , 0.66690864, 0.26814419, 0.34816989],\n",
       "        [0.69398924, 0.67140202, 0.5459731 , 0.73852153, 0.49700126]]])"
      ]
     },
     "execution_count": 3,
     "metadata": {},
     "output_type": "execute_result"
    }
   ],
   "source": [
    "# Method 1\n",
    "a = np.random.random((2,3,5))\n",
    "a"
   ]
  },
  {
   "cell_type": "code",
   "execution_count": 4,
   "metadata": {},
   "outputs": [
    {
     "data": {
      "text/plain": [
       "array([[[46, 30, 12, 46,  0],\n",
       "        [19, 39, 15,  1, 40],\n",
       "        [26, 29,  4, 12,  2]],\n",
       "\n",
       "       [[45, 48,  5, 47, 43],\n",
       "        [ 4, 37, 20,  3,  6],\n",
       "        [38,  2,  2, 24, 31]]])"
      ]
     },
     "execution_count": 4,
     "metadata": {},
     "output_type": "execute_result"
    }
   ],
   "source": [
    "# Method 2\n",
    "a = np.random.randint(low = 0, high = 50, size = (2,3,5))\n",
    "a"
   ]
  },
  {
   "cell_type": "code",
   "execution_count": 5,
   "metadata": {},
   "outputs": [
    {
     "data": {
      "text/plain": [
       "array([[[0.37926134, 0.5088485 , 0.8238377 , 0.45854052, 0.75268375],\n",
       "        [0.18515418, 0.18786116, 0.0274048 , 0.05265653, 0.62066196],\n",
       "        [0.38072399, 0.39253597, 0.10146298, 0.37928314, 0.70675168]],\n",
       "\n",
       "       [[0.491843  , 0.40114451, 0.03573961, 0.15760608, 0.87935126],\n",
       "        [0.89187821, 0.62704057, 0.7851537 , 0.27157951, 0.88684972],\n",
       "        [0.89882743, 0.42790924, 0.82469889, 0.0573079 , 0.04492754]]])"
      ]
     },
     "execution_count": 5,
     "metadata": {},
     "output_type": "execute_result"
    }
   ],
   "source": [
    "# Method 3\n",
    "a = np.random.rand(2,3,5)\n",
    "a"
   ]
  },
  {
   "cell_type": "markdown",
   "metadata": {},
   "source": [
    "#### 4. Print *a*.\n"
   ]
  },
  {
   "cell_type": "code",
   "execution_count": 6,
   "metadata": {},
   "outputs": [
    {
     "name": "stdout",
     "output_type": "stream",
     "text": [
      "[[[0.37926134 0.5088485  0.8238377  0.45854052 0.75268375]\n",
      "  [0.18515418 0.18786116 0.0274048  0.05265653 0.62066196]\n",
      "  [0.38072399 0.39253597 0.10146298 0.37928314 0.70675168]]\n",
      "\n",
      " [[0.491843   0.40114451 0.03573961 0.15760608 0.87935126]\n",
      "  [0.89187821 0.62704057 0.7851537  0.27157951 0.88684972]\n",
      "  [0.89882743 0.42790924 0.82469889 0.0573079  0.04492754]]]\n"
     ]
    }
   ],
   "source": [
    "# your code here\n",
    "print(a)"
   ]
  },
  {
   "cell_type": "markdown",
   "metadata": {},
   "source": [
    "#### 5. Create a 5x2x3 3-dimensional array with all values equaling 1. Assign the array to variable *b*."
   ]
  },
  {
   "cell_type": "code",
   "execution_count": 7,
   "metadata": {},
   "outputs": [],
   "source": [
    "# your code here\n",
    "b = np.ones((5,2,3))"
   ]
  },
  {
   "cell_type": "markdown",
   "metadata": {},
   "source": [
    "#### 6. Print *b*.\n"
   ]
  },
  {
   "cell_type": "code",
   "execution_count": 8,
   "metadata": {},
   "outputs": [
    {
     "name": "stdout",
     "output_type": "stream",
     "text": [
      "[[[1. 1. 1.]\n",
      "  [1. 1. 1.]]\n",
      "\n",
      " [[1. 1. 1.]\n",
      "  [1. 1. 1.]]\n",
      "\n",
      " [[1. 1. 1.]\n",
      "  [1. 1. 1.]]\n",
      "\n",
      " [[1. 1. 1.]\n",
      "  [1. 1. 1.]]\n",
      "\n",
      " [[1. 1. 1.]\n",
      "  [1. 1. 1.]]]\n"
     ]
    }
   ],
   "source": [
    "# your code here\n",
    "print(b)"
   ]
  },
  {
   "cell_type": "markdown",
   "metadata": {},
   "source": [
    "#### 7. Do *a* and *b* have the same size? How do you prove that in Python code?"
   ]
  },
  {
   "cell_type": "code",
   "execution_count": 16,
   "metadata": {},
   "outputs": [
    {
     "name": "stdout",
     "output_type": "stream",
     "text": [
      "True\n"
     ]
    }
   ],
   "source": [
    "# your code here\n",
    "if a.size == b.size:\n",
    "    print('True')\n",
    "else:\n",
    "    print('False')"
   ]
  },
  {
   "cell_type": "markdown",
   "metadata": {},
   "source": [
    "#### 8. Are you able to add *a* and *b*? Why or why not?\n"
   ]
  },
  {
   "cell_type": "code",
   "execution_count": 10,
   "metadata": {},
   "outputs": [],
   "source": [
    "# your answer here\n",
    "#No, because their shapes are differents. We would need to reshape one of the array to being able to add them."
   ]
  },
  {
   "cell_type": "markdown",
   "metadata": {},
   "source": [
    "#### 9. Transpose *b* so that it has the same structure of *a* (i.e. become a 2x3x5 array). Assign the transposed array to variable *c*."
   ]
  },
  {
   "cell_type": "code",
   "execution_count": 23,
   "metadata": {},
   "outputs": [
    {
     "data": {
      "text/plain": [
       "array([[[1., 1., 1., 1., 1.],\n",
       "        [1., 1., 1., 1., 1.],\n",
       "        [1., 1., 1., 1., 1.]],\n",
       "\n",
       "       [[1., 1., 1., 1., 1.],\n",
       "        [1., 1., 1., 1., 1.],\n",
       "        [1., 1., 1., 1., 1.]]])"
      ]
     },
     "execution_count": 23,
     "metadata": {},
     "output_type": "execute_result"
    }
   ],
   "source": [
    "#your code here\n",
    "c = np.reshape(b, (2,3,5))\n",
    "c"
   ]
  },
  {
   "cell_type": "markdown",
   "metadata": {},
   "source": [
    "#### 10. Try to add *a* and *c*. Now it should work. Assign the sum to variable *d*. But why does it work now?"
   ]
  },
  {
   "cell_type": "code",
   "execution_count": 24,
   "metadata": {},
   "outputs": [
    {
     "data": {
      "text/plain": [
       "array([[[1.37926134, 1.5088485 , 1.8238377 , 1.45854052, 1.75268375],\n",
       "        [1.18515418, 1.18786116, 1.0274048 , 1.05265653, 1.62066196],\n",
       "        [1.38072399, 1.39253597, 1.10146298, 1.37928314, 1.70675168]],\n",
       "\n",
       "       [[1.491843  , 1.40114451, 1.03573961, 1.15760608, 1.87935126],\n",
       "        [1.89187821, 1.62704057, 1.7851537 , 1.27157951, 1.88684972],\n",
       "        [1.89882743, 1.42790924, 1.82469889, 1.0573079 , 1.04492754]]])"
      ]
     },
     "execution_count": 24,
     "metadata": {},
     "output_type": "execute_result"
    }
   ],
   "source": [
    "# your code/answer here\n",
    "d = np.add(a,c)\n",
    "d\n",
    "#It does work now because both arrays have the same shape. "
   ]
  },
  {
   "cell_type": "markdown",
   "metadata": {},
   "source": [
    "#### 11. Print *a* and *d*. Notice the difference and relation of the two array in terms of the values? Explain."
   ]
  },
  {
   "cell_type": "code",
   "execution_count": 25,
   "metadata": {},
   "outputs": [
    {
     "name": "stdout",
     "output_type": "stream",
     "text": [
      "Array A: [[[0.37926134 0.5088485  0.8238377  0.45854052 0.75268375]\n",
      "  [0.18515418 0.18786116 0.0274048  0.05265653 0.62066196]\n",
      "  [0.38072399 0.39253597 0.10146298 0.37928314 0.70675168]]\n",
      "\n",
      " [[0.491843   0.40114451 0.03573961 0.15760608 0.87935126]\n",
      "  [0.89187821 0.62704057 0.7851537  0.27157951 0.88684972]\n",
      "  [0.89882743 0.42790924 0.82469889 0.0573079  0.04492754]]]\n",
      "   \n",
      "Array D: [[[1.37926134 1.5088485  1.8238377  1.45854052 1.75268375]\n",
      "  [1.18515418 1.18786116 1.0274048  1.05265653 1.62066196]\n",
      "  [1.38072399 1.39253597 1.10146298 1.37928314 1.70675168]]\n",
      "\n",
      " [[1.491843   1.40114451 1.03573961 1.15760608 1.87935126]\n",
      "  [1.89187821 1.62704057 1.7851537  1.27157951 1.88684972]\n",
      "  [1.89882743 1.42790924 1.82469889 1.0573079  1.04492754]]]\n"
     ]
    }
   ],
   "source": [
    "# your code/answer here\n",
    "print('Array A: ' + str(a))\n",
    "\n",
    "print('   ')\n",
    "\n",
    "print('Array D: ' + str(d))\n",
    "\n",
    "#Array D has the same values as A but with +1.00"
   ]
  },
  {
   "cell_type": "markdown",
   "metadata": {},
   "source": [
    "#### 12. Multiply *a* and *c*. Assign the result to *e*."
   ]
  },
  {
   "cell_type": "code",
   "execution_count": 26,
   "metadata": {},
   "outputs": [
    {
     "data": {
      "text/plain": [
       "array([[[0.37926134, 0.5088485 , 0.8238377 , 0.45854052, 0.75268375],\n",
       "        [0.18515418, 0.18786116, 0.0274048 , 0.05265653, 0.62066196],\n",
       "        [0.38072399, 0.39253597, 0.10146298, 0.37928314, 0.70675168]],\n",
       "\n",
       "       [[0.491843  , 0.40114451, 0.03573961, 0.15760608, 0.87935126],\n",
       "        [0.89187821, 0.62704057, 0.7851537 , 0.27157951, 0.88684972],\n",
       "        [0.89882743, 0.42790924, 0.82469889, 0.0573079 , 0.04492754]]])"
      ]
     },
     "execution_count": 26,
     "metadata": {},
     "output_type": "execute_result"
    }
   ],
   "source": [
    "# your code here\n",
    "e = np.multiply(a, c)\n",
    "e"
   ]
  },
  {
   "cell_type": "markdown",
   "metadata": {},
   "source": [
    "#### 13. Does *e* equal to *a*? Why or why not?\n"
   ]
  },
  {
   "cell_type": "code",
   "execution_count": 27,
   "metadata": {},
   "outputs": [
    {
     "data": {
      "text/plain": [
       "True"
      ]
     },
     "execution_count": 27,
     "metadata": {},
     "output_type": "execute_result"
    }
   ],
   "source": [
    "# your code/answer here    \n",
    "(e == a).all()"
   ]
  },
  {
   "cell_type": "markdown",
   "metadata": {},
   "source": [
    "#### 14. Identify the max, min, and mean values in *d*. Assign those values to variables *d_max*, *d_min* and *d_mean*."
   ]
  },
  {
   "cell_type": "code",
   "execution_count": 28,
   "metadata": {},
   "outputs": [
    {
     "name": "stdout",
     "output_type": "stream",
     "text": [
      "max: 1.8988274324618597\n",
      "min: 1.0274047996146056\n",
      "mean: 1.4546508451036477\n"
     ]
    }
   ],
   "source": [
    "# your code here\n",
    "d_max = np.max(d)\n",
    "d_min = np.min(d)\n",
    "d_mean = np.mean(d)\n",
    "print(('max: ') + str(d_max))\n",
    "print(('min: ') + str(d_min))\n",
    "print(('mean: ') + str(d_mean))"
   ]
  },
  {
   "cell_type": "markdown",
   "metadata": {},
   "source": [
    "#### 15. Now we want to label the values in *d*. First create an empty array *f* with the same shape (i.e. 2x3x5) as *d* using `np.empty`.\n"
   ]
  },
  {
   "cell_type": "code",
   "execution_count": 29,
   "metadata": {},
   "outputs": [
    {
     "data": {
      "text/plain": [
       "array([[[0.37926134, 0.5088485 , 0.8238377 , 0.45854052, 0.75268375],\n",
       "        [0.18515418, 0.18786116, 0.0274048 , 0.05265653, 0.62066196],\n",
       "        [0.38072399, 0.39253597, 0.10146298, 0.37928314, 0.70675168]],\n",
       "\n",
       "       [[0.491843  , 0.40114451, 0.03573961, 0.15760608, 0.87935126],\n",
       "        [0.89187821, 0.62704057, 0.7851537 , 0.27157951, 0.88684972],\n",
       "        [0.89882743, 0.42790924, 0.82469889, 0.0573079 , 0.04492754]]])"
      ]
     },
     "execution_count": 29,
     "metadata": {},
     "output_type": "execute_result"
    }
   ],
   "source": [
    "# your code here\n",
    "f = np.empty_like(d)\n",
    "f"
   ]
  },
  {
   "cell_type": "markdown",
   "metadata": {},
   "source": [
    "#### 16. Populate the values in *f*. \n",
    "\n",
    "For each value in *d*, if it's larger than *d_min* but smaller than *d_mean*, assign 25 to the corresponding value in *f*. If a value in *d* is larger than *d_mean* but smaller than *d_max*, assign 75 to the corresponding value in *f*. If a value equals to *d_mean*, assign 50 to the corresponding value in *f*. Assign 0 to the corresponding value(s) in *f* for *d_min* in *d*. Assign 100 to the corresponding value(s) in *f* for *d_max* in *d*. In the end, f should have only the following values: 0, 25, 50, 75, and 100.\n",
    "\n",
    "**Note**: you don't have to use Numpy in this question."
   ]
  },
  {
   "cell_type": "code",
   "execution_count": 49,
   "metadata": {},
   "outputs": [
    {
     "name": "stdout",
     "output_type": "stream",
     "text": [
      "[[[ 25.  75.  75.  75.  75.]\n",
      "  [ 25.  25.   0.  25.  75.]\n",
      "  [ 25.  25.  25.  25.  75.]]\n",
      "\n",
      " [[ 75.  25.  25.  25.  75.]\n",
      "  [ 75.  75.  75.  25.  75.]\n",
      "  [100.  25.  75.  25.  25.]]]\n"
     ]
    }
   ],
   "source": [
    "# your code here\n",
    "\n",
    "#print('Min: ' + str(d_min))\n",
    "#print('Max: ' + str(d_max))\n",
    "#print('Mean: ' + str(d_mean))\n",
    "\n",
    "for i in range(len(d)):\n",
    "    for j in range(len(d[i])):\n",
    "        for k in range(len(d[i][j])):\n",
    "            ele = d[i][j][k]\n",
    "            if d_min < ele and d_mean > ele:\n",
    "                f[i][j][k] = 25\n",
    "            if d_mean < ele and d_max > ele:\n",
    "                f[i][j][k] = 75\n",
    "            if ele == d_mean:\n",
    "                f[i][j][k] = 50\n",
    "            if ele == d_min:\n",
    "                f[i][j][k] = 0\n",
    "            if ele == d_max:\n",
    "                f[i][j][k] = 100\n",
    "            #print(str(i) + ' ' + str(j) + ' ' + str(k))\n",
    "            #print(str(ele) + ' ' + str(f[i][j][k]))\n",
    "\n",
    "\n",
    "print(f)"
   ]
  },
  {
   "cell_type": "markdown",
   "metadata": {},
   "source": [
    "#### 17. Print *d* and *f*. Do you have your expected *f*?\n",
    "For instance, if your *d* is:\n",
    "```python\n",
    "[[[1.85836099, 1.67064465, 1.62576044, 1.40243961, 1.88454931],\n",
    "[1.75354326, 1.69403643, 1.36729252, 1.61415071, 1.12104981],\n",
    "[1.72201435, 1.1862918 , 1.87078449, 1.7726778 , 1.88180042]],\n",
    "[[1.44747908, 1.31673383, 1.02000951, 1.52218947, 1.97066381],\n",
    "[1.79129243, 1.74983003, 1.96028037, 1.85166831, 1.65450881],\n",
    "[1.18068344, 1.9587381 , 1.00656599, 1.93402165, 1.73514584]]]\n",
    "```\n",
    "Your *f* should be:\n",
    "```python\n",
    "[[[ 75.,  75.,  75.,  25.,  75.],\n",
    "[ 75.,  75.,  25.,  25.,  25.],\n",
    "[ 75.,  25.,  75.,  75.,  75.]],\n",
    "[[ 25.,  25.,  25.,  25., 100.],\n",
    "[ 75.,  75.,  75.,  75.,  75.],\n",
    "[ 25.,  75.,   0.,  75.,  75.]]]\n",
    "```"
   ]
  },
  {
   "cell_type": "code",
   "execution_count": 52,
   "metadata": {},
   "outputs": [
    {
     "name": "stdout",
     "output_type": "stream",
     "text": [
      "Array D: [[[1.37926134 1.5088485  1.8238377  1.45854052 1.75268375]\n",
      "  [1.18515418 1.18786116 1.0274048  1.05265653 1.62066196]\n",
      "  [1.38072399 1.39253597 1.10146298 1.37928314 1.70675168]]\n",
      "\n",
      " [[1.491843   1.40114451 1.03573961 1.15760608 1.87935126]\n",
      "  [1.89187821 1.62704057 1.7851537  1.27157951 1.88684972]\n",
      "  [1.89882743 1.42790924 1.82469889 1.0573079  1.04492754]]]\n",
      " \n",
      "Array F: [[[ 25.  75.  75.  75.  75.]\n",
      "  [ 25.  25.   0.  25.  75.]\n",
      "  [ 25.  25.  25.  25.  75.]]\n",
      "\n",
      " [[ 75.  25.  25.  25.  75.]\n",
      "  [ 75.  75.  75.  25.  75.]\n",
      "  [100.  25.  75.  25.  25.]]]\n"
     ]
    }
   ],
   "source": [
    "# your code here\n",
    "print('Array D: ' + str(d))\n",
    "print(' ')\n",
    "print('Array F: ' + str(f))"
   ]
  },
  {
   "cell_type": "markdown",
   "metadata": {},
   "source": [
    "#### 18. Bonus question: instead of using numbers (i.e. 0, 25, 50, 75, and 100), use string values  (\"A\", \"B\", \"C\", \"D\", and \"E\") to label the array elements. For the example above, the expected result is:\n",
    "\n",
    "```python\n",
    "[[[ 'D',  'D',  'D',  'B',  'D'],\n",
    "[ 'D',  'D',  'B',  'B',  'B'],\n",
    "[ 'D',  'B',  'D',  'D',  'D']],\n",
    "[[ 'B',  'B',  'B',  'B',  'E'],\n",
    "[ 'D',  'D',  'D',  'D',  'D'],\n",
    "[ 'B',  'D',   'A',  'D', 'D']]]\n",
    "```\n",
    "**Note**: you don't have to use Numpy in this question."
   ]
  },
  {
   "cell_type": "code",
   "execution_count": 80,
   "metadata": {},
   "outputs": [
    {
     "data": {
      "text/plain": [
       "[[['B', 'D', 'D', 'D', 'D'],\n",
       "  ['B', 'B', 'A', 'B', 'D'],\n",
       "  ['B', 'B', 'B', 'B', 'D']],\n",
       " [['D', 'B', 'B', 'B', 'D'],\n",
       "  ['D', 'D', 'D', 'B', 'D'],\n",
       "  ['E', 'B', 'D', 'B', 'B']]]"
      ]
     },
     "execution_count": 80,
     "metadata": {},
     "output_type": "execute_result"
    }
   ],
   "source": [
    "# your code here\n",
    "f_update = []\n",
    "\n",
    "for i in range(len(f)):\n",
    "    f_update.append([])\n",
    "    for j in range(len(f[i])):\n",
    "        f_update[i].append([])\n",
    "        for k in range(len(f[i][j])):\n",
    "            ele = f[i][j][k]\n",
    "            if ele == 75:\n",
    "                f_update[i][j].append('D')\n",
    "            if ele == 25:\n",
    "                f_update[i][j].append('B')\n",
    "            if ele == 50:\n",
    "                f_update[i][j].append('C')\n",
    "            if ele == 100:\n",
    "                f_update[i][j].append('E')\n",
    "            if ele == 0:\n",
    "                f_update[i][j].append('A')\n",
    "f_update"
   ]
  }
 ],
 "metadata": {
  "kernelspec": {
   "display_name": "Python [conda env:ironhack_env]",
   "language": "python",
   "name": "conda-env-ironhack_env-py"
  },
  "language_info": {
   "codemirror_mode": {
    "name": "ipython",
    "version": 3
   },
   "file_extension": ".py",
   "mimetype": "text/x-python",
   "name": "python",
   "nbconvert_exporter": "python",
   "pygments_lexer": "ipython3",
   "version": "3.8.5"
  }
 },
 "nbformat": 4,
 "nbformat_minor": 4
}
