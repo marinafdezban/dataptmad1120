{
 "cells": [
  {
   "cell_type": "markdown",
   "metadata": {},
   "source": [
    "# Challenge 2: Sentiment Analysis\n",
    "\n",
    "In this challenge we will learn sentiment analysis and practice performing sentiment analysis on Twitter tweets. \n",
    "\n",
    "## Introduction\n",
    "\n",
    "Sentiment analysis is to *systematically identify, extract, quantify, and study affective states and subjective information* based on texts ([reference](https://en.wikipedia.org/wiki/Sentiment_analysis)). In simple words, it's to understand whether a person is happy or unhappy in producing the piece of text. Why we (or rather, companies) care about sentiment in texts? It's because by understanding the sentiments in texts, we will be able to know if our customers are happy or unhappy about our products and services. If they are unhappy, the subsequent action is to figure out what have caused the unhappiness and make improvements.\n",
    "\n",
    "Basic sentiment analysis only understands the *positive* or *negative* (sometimes *neutral* too) polarities of the sentiment. More advanced sentiment analysis will also consider dimensions such as agreement, subjectivity, confidence, irony, and so on. In this challenge we will conduct the basic positive vs negative sentiment analysis based on real Twitter tweets.\n",
    "\n",
    "NLTK comes with a [sentiment analysis package](https://www.nltk.org/api/nltk.sentiment.html). This package is great for dummies to perform sentiment analysis because it requires only the textual data to make predictions. For example:\n",
    "\n",
    "```python\n",
    ">>> from nltk.sentiment.vader import SentimentIntensityAnalyzer\n",
    ">>> txt = \"Ironhack is a Global Tech School ranked num 2 worldwide.  ",
    " ",
    "Our mission is to help people transform their careers and join a thriving community of tech professionals that love what they do.\"\n",
    ">>> analyzer = SentimentIntensityAnalyzer()\n",
    ">>> analyzer.polarity_scores(txt)\n",
    "{'neg': 0.0, 'neu': 0.741, 'pos': 0.259, 'compound': 0.8442}\n",
    "```\n",
    "\n",
    "In this challenge, however, you will not use NLTK's sentiment analysis package because in your Machine Learning training in the past 2 weeks you have learned how to make predictions more accurate than that. The [tweets data](https://www.kaggle.com/kazanova/sentiment140) we will be using today are already coded for the positive/negative sentiment. You will be able to use the Naïve Bayes classifier you learned in the lesson to predict the sentiment of tweets based on the labels."
   ]
  },
  {
   "cell_type": "markdown",
   "metadata": {},
   "source": [
    "## Conducting Sentiment Analysis\n",
    "\n",
    "### Loading and Exploring Data\n",
    "\n",
    "The dataset we'll be using today is located in the lab directory named `Sentiment140.csv.zip`. You need to unzip it into a `.csv` file. Then in the cell below, load and explore the data.\n",
    "\n",
    "*Notes:* \n",
    "\n",
    "* The dataset was downloaded from [Kaggle](https://www.kaggle.com/kazanova/sentiment140). We made a slight change on the original data so that each column has a label.\n",
    "\n",
    "* The dataset is huuuuge (1.6m tweets). When you develop your data analysis codes, you can sample a subset of the data (e.g. 20k records) so that you will save a lot of time when you test your codes."
   ]
  },
  {
   "cell_type": "code",
   "execution_count": 1,
   "metadata": {},
   "outputs": [],
   "source": [
    "import pandas as pd\n",
    "from nltk.sentiment.vader import SentimentIntensityAnalyzer"
   ]
  },
  {
   "cell_type": "code",
   "execution_count": 2,
   "metadata": {},
   "outputs": [
    {
     "data": {
      "text/html": [
       "<div>\n",
       "<style scoped>\n",
       "    .dataframe tbody tr th:only-of-type {\n",
       "        vertical-align: middle;\n",
       "    }\n",
       "\n",
       "    .dataframe tbody tr th {\n",
       "        vertical-align: top;\n",
       "    }\n",
       "\n",
       "    .dataframe thead th {\n",
       "        text-align: right;\n",
       "    }\n",
       "</style>\n",
       "<table border=\"1\" class=\"dataframe\">\n",
       "  <thead>\n",
       "    <tr style=\"text-align: right;\">\n",
       "      <th></th>\n",
       "      <th>target</th>\n",
       "      <th>ids</th>\n",
       "      <th>date</th>\n",
       "      <th>flag</th>\n",
       "      <th>user</th>\n",
       "      <th>text</th>\n",
       "    </tr>\n",
       "  </thead>\n",
       "  <tbody>\n",
       "    <tr>\n",
       "      <th>0</th>\n",
       "      <td>0</td>\n",
       "      <td>1880844560</td>\n",
       "      <td>Fri May 22 02:42:24 PDT 2009</td>\n",
       "      <td>NO_QUERY</td>\n",
       "      <td>camille_dlr</td>\n",
       "      <td>classes resume on june 8... i dont want school...</td>\n",
       "    </tr>\n",
       "    <tr>\n",
       "      <th>1</th>\n",
       "      <td>0</td>\n",
       "      <td>1965493417</td>\n",
       "      <td>Fri May 29 16:01:06 PDT 2009</td>\n",
       "      <td>NO_QUERY</td>\n",
       "      <td>MrTopherface</td>\n",
       "      <td>I dont like seeing my best friend cry, it brea...</td>\n",
       "    </tr>\n",
       "    <tr>\n",
       "      <th>2</th>\n",
       "      <td>0</td>\n",
       "      <td>2004056346</td>\n",
       "      <td>Tue Jun 02 07:35:42 PDT 2009</td>\n",
       "      <td>NO_QUERY</td>\n",
       "      <td>allieschick</td>\n",
       "      <td>@JesykaLueck you heading to E3 today?? Wish I ...</td>\n",
       "    </tr>\n",
       "    <tr>\n",
       "      <th>3</th>\n",
       "      <td>4</td>\n",
       "      <td>1754547330</td>\n",
       "      <td>Sun May 10 06:38:27 PDT 2009</td>\n",
       "      <td>NO_QUERY</td>\n",
       "      <td>cristina824</td>\n",
       "      <td>@miss_arod I love her too! Feliz dia de las Ma...</td>\n",
       "    </tr>\n",
       "    <tr>\n",
       "      <th>4</th>\n",
       "      <td>4</td>\n",
       "      <td>2064036918</td>\n",
       "      <td>Sun Jun 07 05:00:42 PDT 2009</td>\n",
       "      <td>NO_QUERY</td>\n",
       "      <td>wiseleo</td>\n",
       "      <td>@cwichura that's why I watch BBC from California</td>\n",
       "    </tr>\n",
       "    <tr>\n",
       "      <th>...</th>\n",
       "      <td>...</td>\n",
       "      <td>...</td>\n",
       "      <td>...</td>\n",
       "      <td>...</td>\n",
       "      <td>...</td>\n",
       "      <td>...</td>\n",
       "    </tr>\n",
       "    <tr>\n",
       "      <th>19995</th>\n",
       "      <td>0</td>\n",
       "      <td>2051488534</td>\n",
       "      <td>Fri Jun 05 22:09:26 PDT 2009</td>\n",
       "      <td>NO_QUERY</td>\n",
       "      <td>winklepicker81</td>\n",
       "      <td>A hr to go in work! it's been a long 13hr shif...</td>\n",
       "    </tr>\n",
       "    <tr>\n",
       "      <th>19996</th>\n",
       "      <td>0</td>\n",
       "      <td>2180821693</td>\n",
       "      <td>Mon Jun 15 10:59:33 PDT 2009</td>\n",
       "      <td>NO_QUERY</td>\n",
       "      <td>SimonSchwarz</td>\n",
       "      <td>Mario on TV: http://bit.ly/Cdpv7  Thanks to Yo...</td>\n",
       "    </tr>\n",
       "    <tr>\n",
       "      <th>19997</th>\n",
       "      <td>4</td>\n",
       "      <td>1956979309</td>\n",
       "      <td>Thu May 28 23:11:08 PDT 2009</td>\n",
       "      <td>NO_QUERY</td>\n",
       "      <td>tazigo</td>\n",
       "      <td>Haha, internet vanished just as I was signing ...</td>\n",
       "    </tr>\n",
       "    <tr>\n",
       "      <th>19998</th>\n",
       "      <td>4</td>\n",
       "      <td>1563637554</td>\n",
       "      <td>Sun Apr 19 23:37:14 PDT 2009</td>\n",
       "      <td>NO_QUERY</td>\n",
       "      <td>Kilbarri</td>\n",
       "      <td>party last night.. lots of fun, 5am sleep time...</td>\n",
       "    </tr>\n",
       "    <tr>\n",
       "      <th>19999</th>\n",
       "      <td>0</td>\n",
       "      <td>2267262408</td>\n",
       "      <td>Sun Jun 21 09:53:32 PDT 2009</td>\n",
       "      <td>NO_QUERY</td>\n",
       "      <td>subrina27</td>\n",
       "      <td>i feel soo short</td>\n",
       "    </tr>\n",
       "  </tbody>\n",
       "</table>\n",
       "<p>20000 rows × 6 columns</p>\n",
       "</div>"
      ],
      "text/plain": [
       "       target         ids                          date      flag  \\\n",
       "0           0  1880844560  Fri May 22 02:42:24 PDT 2009  NO_QUERY   \n",
       "1           0  1965493417  Fri May 29 16:01:06 PDT 2009  NO_QUERY   \n",
       "2           0  2004056346  Tue Jun 02 07:35:42 PDT 2009  NO_QUERY   \n",
       "3           4  1754547330  Sun May 10 06:38:27 PDT 2009  NO_QUERY   \n",
       "4           4  2064036918  Sun Jun 07 05:00:42 PDT 2009  NO_QUERY   \n",
       "...       ...         ...                           ...       ...   \n",
       "19995       0  2051488534  Fri Jun 05 22:09:26 PDT 2009  NO_QUERY   \n",
       "19996       0  2180821693  Mon Jun 15 10:59:33 PDT 2009  NO_QUERY   \n",
       "19997       4  1956979309  Thu May 28 23:11:08 PDT 2009  NO_QUERY   \n",
       "19998       4  1563637554  Sun Apr 19 23:37:14 PDT 2009  NO_QUERY   \n",
       "19999       0  2267262408  Sun Jun 21 09:53:32 PDT 2009  NO_QUERY   \n",
       "\n",
       "                 user                                               text  \n",
       "0         camille_dlr  classes resume on june 8... i dont want school...  \n",
       "1        MrTopherface  I dont like seeing my best friend cry, it brea...  \n",
       "2         allieschick  @JesykaLueck you heading to E3 today?? Wish I ...  \n",
       "3         cristina824  @miss_arod I love her too! Feliz dia de las Ma...  \n",
       "4             wiseleo  @cwichura that's why I watch BBC from California   \n",
       "...               ...                                                ...  \n",
       "19995  winklepicker81  A hr to go in work! it's been a long 13hr shif...  \n",
       "19996    SimonSchwarz  Mario on TV: http://bit.ly/Cdpv7  Thanks to Yo...  \n",
       "19997          tazigo  Haha, internet vanished just as I was signing ...  \n",
       "19998        Kilbarri  party last night.. lots of fun, 5am sleep time...  \n",
       "19999       subrina27                                  i feel soo short   \n",
       "\n",
       "[20000 rows x 6 columns]"
      ]
     },
     "execution_count": 2,
     "metadata": {},
     "output_type": "execute_result"
    }
   ],
   "source": [
    "# your code here\n",
    "data = pd.read_csv('../data/training.1600000.processed.noemoticon.csv', encoding='latin1')\n",
    "sentiment_data = data.sample(n=20000)\n",
    "sentiment_data.reset_index(inplace=True)\n",
    "sentiment_data.columns = ['index', 'target', 'ids', 'date', 'flag', 'user', 'text']\n",
    "sentiment_data.drop('index', 1)"
   ]
  },
  {
   "cell_type": "markdown",
   "metadata": {},
   "source": [
    "### Prepare Textual Data for Sentiment Analysis\n",
    "\n",
    "Now, apply the functions you have written in Challenge 1 to your whole data set. These functions include:\n",
    "\n",
    "* `clean_up()`\n",
    "\n",
    "* `tokenize()`\n",
    "\n",
    "* `stem_and_lemmatize()`\n",
    "\n",
    "* `remove_stopwords()`\n",
    "\n",
    "Create a new column called `text_processed` in the dataframe to contain the processed data. At the end, your `text_processed` column should contain lists of word tokens that are cleaned up. Your data should look like below:\n",
    "\n",
    "![Processed Data](data-cleaning-results.png)"
   ]
  },
  {
   "cell_type": "code",
   "execution_count": 3,
   "metadata": {},
   "outputs": [],
   "source": [
    "# your code here\n",
    "from nltk import word_tokenize\n",
    "from nltk import sent_tokenize\n",
    "from nltk.stem import PorterStemmer\n",
    "from nltk.corpus import stopwords\n",
    "import re"
   ]
  },
  {
   "cell_type": "code",
   "execution_count": 4,
   "metadata": {},
   "outputs": [],
   "source": [
    "stop_word=stopwords.words('english')"
   ]
  },
  {
   "cell_type": "code",
   "execution_count": 5,
   "metadata": {},
   "outputs": [],
   "source": [
    "# Remove @ and urls\n",
    "remove_ads = [re.sub('@','',l) for l in sentiment_data['text']]\n",
    "remove_urls = [re.sub('(http\\\\S+| www\\\\S+)', '',l) for l in remove_ads]"
   ]
  },
  {
   "cell_type": "code",
   "execution_count": 6,
   "metadata": {},
   "outputs": [],
   "source": [
    "#Tokenize the text\n",
    "token_sentences = [word_tokenize(sent) for sent in remove_urls]"
   ]
  },
  {
   "cell_type": "code",
   "execution_count": 7,
   "metadata": {},
   "outputs": [],
   "source": [
    "#Stemming the tokenize text\n",
    "porter = PorterStemmer()\n",
    "stemmed_tokens = [[porter.stem(word) for word in remove_urls] for remove_urls in token_sentences]"
   ]
  },
  {
   "cell_type": "code",
   "execution_count": 8,
   "metadata": {},
   "outputs": [],
   "source": [
    "#Deleting stopwords\n",
    "stop_words= [[word for word in sub if word not in stopwords.words('english')] for sub in stemmed_tokens]"
   ]
  },
  {
   "cell_type": "code",
   "execution_count": 9,
   "metadata": {},
   "outputs": [],
   "source": [
    "#Delete other tokens which are not words\n",
    "only_alpha= [[t for t in s if t.isalpha()] for s in stop_words]"
   ]
  },
  {
   "cell_type": "code",
   "execution_count": 10,
   "metadata": {},
   "outputs": [],
   "source": [
    "#Lower case all the text\n",
    "lower_case= [[t.lower() for t in s] for s in only_alpha]"
   ]
  },
  {
   "cell_type": "code",
   "execution_count": 11,
   "metadata": {},
   "outputs": [],
   "source": [
    "#Create the new column\n",
    "sentiment_data['text_processed'] = lower_case"
   ]
  },
  {
   "cell_type": "code",
   "execution_count": 12,
   "metadata": {},
   "outputs": [
    {
     "data": {
      "text/html": [
       "<div>\n",
       "<style scoped>\n",
       "    .dataframe tbody tr th:only-of-type {\n",
       "        vertical-align: middle;\n",
       "    }\n",
       "\n",
       "    .dataframe tbody tr th {\n",
       "        vertical-align: top;\n",
       "    }\n",
       "\n",
       "    .dataframe thead th {\n",
       "        text-align: right;\n",
       "    }\n",
       "</style>\n",
       "<table border=\"1\" class=\"dataframe\">\n",
       "  <thead>\n",
       "    <tr style=\"text-align: right;\">\n",
       "      <th></th>\n",
       "      <th>index</th>\n",
       "      <th>target</th>\n",
       "      <th>ids</th>\n",
       "      <th>date</th>\n",
       "      <th>flag</th>\n",
       "      <th>user</th>\n",
       "      <th>text</th>\n",
       "      <th>text_processed</th>\n",
       "    </tr>\n",
       "  </thead>\n",
       "  <tbody>\n",
       "    <tr>\n",
       "      <th>0</th>\n",
       "      <td>139606</td>\n",
       "      <td>0</td>\n",
       "      <td>1880844560</td>\n",
       "      <td>Fri May 22 02:42:24 PDT 2009</td>\n",
       "      <td>NO_QUERY</td>\n",
       "      <td>camille_dlr</td>\n",
       "      <td>classes resume on june 8... i dont want school...</td>\n",
       "      <td>[class, resum, june, dont, want, school, yet]</td>\n",
       "    </tr>\n",
       "    <tr>\n",
       "      <th>1</th>\n",
       "      <td>176970</td>\n",
       "      <td>0</td>\n",
       "      <td>1965493417</td>\n",
       "      <td>Fri May 29 16:01:06 PDT 2009</td>\n",
       "      <td>NO_QUERY</td>\n",
       "      <td>MrTopherface</td>\n",
       "      <td>I dont like seeing my best friend cry, it brea...</td>\n",
       "      <td>[i, dont, like, see, best, friend, cri, break,...</td>\n",
       "    </tr>\n",
       "    <tr>\n",
       "      <th>2</th>\n",
       "      <td>322061</td>\n",
       "      <td>0</td>\n",
       "      <td>2004056346</td>\n",
       "      <td>Tue Jun 02 07:35:42 PDT 2009</td>\n",
       "      <td>NO_QUERY</td>\n",
       "      <td>allieschick</td>\n",
       "      <td>@JesykaLueck you heading to E3 today?? Wish I ...</td>\n",
       "      <td>[jesykalueck, head, today, wish, i, wa, go, ma...</td>\n",
       "    </tr>\n",
       "    <tr>\n",
       "      <th>3</th>\n",
       "      <td>922867</td>\n",
       "      <td>4</td>\n",
       "      <td>1754547330</td>\n",
       "      <td>Sun May 10 06:38:27 PDT 2009</td>\n",
       "      <td>NO_QUERY</td>\n",
       "      <td>cristina824</td>\n",
       "      <td>@miss_arod I love her too! Feliz dia de las Ma...</td>\n",
       "      <td>[i, love, feliz, dia, de, la, mami]</td>\n",
       "    </tr>\n",
       "    <tr>\n",
       "      <th>4</th>\n",
       "      <td>1462523</td>\n",
       "      <td>4</td>\n",
       "      <td>2064036918</td>\n",
       "      <td>Sun Jun 07 05:00:42 PDT 2009</td>\n",
       "      <td>NO_QUERY</td>\n",
       "      <td>wiseleo</td>\n",
       "      <td>@cwichura that's why I watch BBC from California</td>\n",
       "      <td>[cwichura, whi, i, watch, bbc, california]</td>\n",
       "    </tr>\n",
       "  </tbody>\n",
       "</table>\n",
       "</div>"
      ],
      "text/plain": [
       "     index  target         ids                          date      flag  \\\n",
       "0   139606       0  1880844560  Fri May 22 02:42:24 PDT 2009  NO_QUERY   \n",
       "1   176970       0  1965493417  Fri May 29 16:01:06 PDT 2009  NO_QUERY   \n",
       "2   322061       0  2004056346  Tue Jun 02 07:35:42 PDT 2009  NO_QUERY   \n",
       "3   922867       4  1754547330  Sun May 10 06:38:27 PDT 2009  NO_QUERY   \n",
       "4  1462523       4  2064036918  Sun Jun 07 05:00:42 PDT 2009  NO_QUERY   \n",
       "\n",
       "           user                                               text  \\\n",
       "0   camille_dlr  classes resume on june 8... i dont want school...   \n",
       "1  MrTopherface  I dont like seeing my best friend cry, it brea...   \n",
       "2   allieschick  @JesykaLueck you heading to E3 today?? Wish I ...   \n",
       "3   cristina824  @miss_arod I love her too! Feliz dia de las Ma...   \n",
       "4       wiseleo  @cwichura that's why I watch BBC from California    \n",
       "\n",
       "                                      text_processed  \n",
       "0      [class, resum, june, dont, want, school, yet]  \n",
       "1  [i, dont, like, see, best, friend, cri, break,...  \n",
       "2  [jesykalueck, head, today, wish, i, wa, go, ma...  \n",
       "3                [i, love, feliz, dia, de, la, mami]  \n",
       "4         [cwichura, whi, i, watch, bbc, california]  "
      ]
     },
     "execution_count": 12,
     "metadata": {},
     "output_type": "execute_result"
    }
   ],
   "source": [
    "sentiment_data.head()"
   ]
  },
  {
   "cell_type": "markdown",
   "metadata": {},
   "source": [
    "### Creating Bag of Words\n",
    "\n",
    "The purpose of this step is to create a [bag of words](https://en.wikipedia.org/wiki/Bag-of-words_model) from the processed data. The bag of words contains all the unique words in your whole text body (a.k.a. *corpus*) with the number of occurrence of each word. It will allow you to understand which words are the most important features across the whole corpus.\n",
    "\n",
    "Also, you can imagine you will have a massive set of words. The less important words (i.e. those of very low number of occurrence) do not contribute much to the sentiment. Therefore, you only need to use the most important words to build your feature set in the next step. In our case, we will use the top 5,000 words with the highest frequency to build the features.\n",
    "\n",
    "In the cell below, combine all the words in `text_processed` and calculate the frequency distribution of all words. A convenient library to calculate the term frequency distribution is NLTK's `FreqDist` class ([documentation](https://www.nltk.org/api/nltk.html#module-nltk.probability)). Then select the top 5,000 words from the frequency distribution."
   ]
  },
  {
   "cell_type": "code",
   "execution_count": null,
   "metadata": {},
   "outputs": [],
   "source": [
    "# your code here"
   ]
  },
  {
   "cell_type": "markdown",
   "metadata": {},
   "source": [
    "### Building Features\n",
    "\n",
    "Now let's build the features. Using the top 5,000 words, create a 2-dimensional matrix to record whether each of those words is contained in each document (tweet). Then you also have an output column to indicate whether the sentiment in each tweet is positive. For example, assuming your bag of words has 5 items (`['one', 'two', 'three', 'four', 'five']`) out of 4 documents (`['A', 'B', 'C', 'D']`), your feature set is essentially:\n",
    "\n",
    "| Doc | one | two | three | four | five | is_positive |\n",
    "|---|---|---|---|---|---|---|\n",
    "| A | True | False | False | True | False | True |\n",
    "| B | False | False | False | True | True | False |\n",
    "| C | False | True | False | False | False | True |\n",
    "| D | True | False | False | False | True | False|\n",
    "\n",
    "However, because the `nltk.NaiveBayesClassifier.train` class we will use in the next step does not work with Pandas dataframe, the structure of your feature set should be converted to the Python list looking like below:\n",
    "\n",
    "```python\n",
    "[\n",
    "\t({\n",
    "\t\t'one': True,\n",
    "\t\t'two': False,\n",
    "\t\t'three': False,\n",
    "\t\t'four': True,\n",
    "\t\t'five': False\n",
    "\t}, True),\n",
    "\t({\n",
    "\t\t'one': False,\n",
    "\t\t'two': False,\n",
    "\t\t'three': False,\n",
    "\t\t'four': True,\n",
    "\t\t'five': True\n",
    "\t}, False),\n",
    "\t({\n",
    "\t\t'one': False,\n",
    "\t\t'two': True,\n",
    "\t\t'three': False,\n",
    "\t\t'four': False,\n",
    "\t\t'five': False\n",
    "\t}, True),\n",
    "\t({\n",
    "\t\t'one': True,\n",
    "\t\t'two': False,\n",
    "\t\t'three': False,\n",
    "\t\t'four': False,\n",
    "\t\t'five': True\n",
    "\t}, False)\n",
    "]\n",
    "```\n",
    "\n",
    "To help you in this step, watch the [following video](https://www.youtube.com/watch?v=-vVskDsHcVc) to learn how to build the feature set with Python and NLTK. The source code in this video can be found [here](https://pythonprogramming.net/words-as-features-nltk-tutorial/)."
   ]
  },
  {
   "cell_type": "markdown",
   "metadata": {},
   "source": [
    "[![Building Features](building-features.jpg)](https://www.youtube.com/watch?v=-vVskDsHcVc)"
   ]
  },
  {
   "cell_type": "code",
   "execution_count": null,
   "metadata": {},
   "outputs": [],
   "source": [
    "# your code here"
   ]
  },
  {
   "cell_type": "markdown",
   "metadata": {},
   "source": [
    "### Building and Traininng Naive Bayes Model\n",
    "\n",
    "In this step you will split your feature set into a training and a test set. Then you will create a Bayes classifier instance using `nltk.NaiveBayesClassifier.train` ([example](https://www.nltk.org/book/ch06.html)) to train with the training dataset.\n",
    "\n",
    "After training the model, call `classifier.show_most_informative_features()` to inspect the most important features. The output will look like:\n",
    "\n",
    "```\n",
    "Most Informative Features\n",
    "\t    snow = True            False : True   =     34.3 : 1.0\n",
    "\t  easter = True            False : True   =     26.2 : 1.0\n",
    "\t headach = True            False : True   =     20.9 : 1.0\n",
    "\t    argh = True            False : True   =     17.6 : 1.0\n",
    "\tunfortun = True            False : True   =     16.9 : 1.0\n",
    "\t    jona = True             True : False  =     16.2 : 1.0\n",
    "\t     ach = True            False : True   =     14.9 : 1.0\n",
    "\t     sad = True            False : True   =     13.0 : 1.0\n",
    "\t  parent = True            False : True   =     12.9 : 1.0\n",
    "\t  spring = True            False : True   =     12.7 : 1.0\n",
    "```\n",
    "\n",
    "The [following video](https://www.youtube.com/watch?v=rISOsUaTrO4) will help you complete this step. The source code in this video can be found [here](https://pythonprogramming.net/naive-bayes-classifier-nltk-tutorial/)."
   ]
  },
  {
   "cell_type": "markdown",
   "metadata": {},
   "source": [
    "[![Building and Training NB](nb-model-building.jpg)](https://www.youtube.com/watch?v=rISOsUaTrO4)"
   ]
  },
  {
   "cell_type": "code",
   "execution_count": 1,
   "metadata": {},
   "outputs": [],
   "source": [
    "# your code here"
   ]
  },
  {
   "cell_type": "markdown",
   "metadata": {},
   "source": [
    "### Testing Naive Bayes Model\n",
    "\n",
    "Now we'll test our classifier with the test dataset. This is done by calling `nltk.classify.accuracy(classifier, test)`.\n",
    "\n",
    "As mentioned in one of the tutorial videos, a Naive Bayes model is considered OK if your accuracy score is over 0.6. If your accuracy score is over 0.7, you've done a great job!"
   ]
  },
  {
   "cell_type": "code",
   "execution_count": null,
   "metadata": {},
   "outputs": [],
   "source": [
    "# your code here"
   ]
  },
  {
   "cell_type": "markdown",
   "metadata": {},
   "source": [
    "## Bonus Question 1: Improve Model Performance\n",
    "\n",
    "If you are still not exhausted so far and want to dig deeper, try to improve your classifier performance. There are many aspects you can dig into, for example:\n",
    "\n",
    "* Improve stemming and lemmatization. Inspect your bag of words and the most important features. Are there any words you should furuther remove from analysis? You can append these words to further remove to the stop words list.\n",
    "\n",
    "* Remember we only used the top 5,000 features to build model? Try using different numbers of top features. The bottom line is to use as few features as you can without compromising your model performance. The fewer features you select into your model, the faster your model is trained. Then you can use a larger sample size to improve your model accuracy score."
   ]
  },
  {
   "cell_type": "code",
   "execution_count": null,
   "metadata": {},
   "outputs": [],
   "source": [
    "# your code here"
   ]
  },
  {
   "cell_type": "markdown",
   "metadata": {},
   "source": [
    "## Bonus Question 2: Machine Learning Pipeline\n",
    "\n",
    "In a new Jupyter Notebook, combine all your codes into a function (or a class). Your new function will execute the complete machine learning pipeline job by receiving the dataset location and output the classifier. This will allow you to use your function to predict the sentiment of any tweet in real time. "
   ]
  },
  {
   "cell_type": "code",
   "execution_count": null,
   "metadata": {},
   "outputs": [],
   "source": [
    "# your code here"
   ]
  },
  {
   "cell_type": "markdown",
   "metadata": {},
   "source": [
    "## Bonus Question 3: Apache Spark\n",
    "\n",
    "If you have completed the Apache Spark advanced topic lab, what you can do is to migrate your pipeline from local to a Databricks Notebook. Share your notebook with your instructor and classmates to show off your achievements!"
   ]
  },
  {
   "cell_type": "code",
   "execution_count": null,
   "metadata": {},
   "outputs": [],
   "source": [
    "# your code here"
   ]
  }
 ],
 "metadata": {
  "kernelspec": {
   "display_name": "Python [conda env:ironhack_env]",
   "language": "python",
   "name": "conda-env-ironhack_env-py"
  },
  "language_info": {
   "codemirror_mode": {
    "name": "ipython",
    "version": 3
   },
   "file_extension": ".py",
   "mimetype": "text/x-python",
   "name": "python",
   "nbconvert_exporter": "python",
   "pygments_lexer": "ipython3",
   "version": "3.8.5"
  }
 },
 "nbformat": 4,
 "nbformat_minor": 4
}
