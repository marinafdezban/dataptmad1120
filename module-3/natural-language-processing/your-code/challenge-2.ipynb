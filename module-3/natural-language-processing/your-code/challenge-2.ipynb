{
 "cells": [
  {
   "cell_type": "markdown",
   "metadata": {},
   "source": [
    "# Challenge 2: Sentiment Analysis\n",
    "\n",
    "In this challenge we will learn sentiment analysis and practice performing sentiment analysis on Twitter tweets. \n",
    "\n",
    "## Introduction\n",
    "\n",
    "Sentiment analysis is to *systematically identify, extract, quantify, and study affective states and subjective information* based on texts ([reference](https://en.wikipedia.org/wiki/Sentiment_analysis)). In simple words, it's to understand whether a person is happy or unhappy in producing the piece of text. Why we (or rather, companies) care about sentiment in texts? It's because by understanding the sentiments in texts, we will be able to know if our customers are happy or unhappy about our products and services. If they are unhappy, the subsequent action is to figure out what have caused the unhappiness and make improvements.\n",
    "\n",
    "Basic sentiment analysis only understands the *positive* or *negative* (sometimes *neutral* too) polarities of the sentiment. More advanced sentiment analysis will also consider dimensions such as agreement, subjectivity, confidence, irony, and so on. In this challenge we will conduct the basic positive vs negative sentiment analysis based on real Twitter tweets.\n",
    "\n",
    "NLTK comes with a [sentiment analysis package](https://www.nltk.org/api/nltk.sentiment.html). This package is great for dummies to perform sentiment analysis because it requires only the textual data to make predictions. For example:\n",
    "\n",
    "```python\n",
    ">>> from nltk.sentiment.vader import SentimentIntensityAnalyzer\n",
    ">>> txt = \"Ironhack is a Global Tech School ranked num 2 worldwide.  ",
    " ",
    "Our mission is to help people transform their careers and join a thriving community of tech professionals that love what they do.\"\n",
    ">>> analyzer = SentimentIntensityAnalyzer()\n",
    ">>> analyzer.polarity_scores(txt)\n",
    "{'neg': 0.0, 'neu': 0.741, 'pos': 0.259, 'compound': 0.8442}\n",
    "```\n",
    "\n",
    "In this challenge, however, you will not use NLTK's sentiment analysis package because in your Machine Learning training in the past 2 weeks you have learned how to make predictions more accurate than that. The [tweets data](https://www.kaggle.com/kazanova/sentiment140) we will be using today are already coded for the positive/negative sentiment. You will be able to use the Naïve Bayes classifier you learned in the lesson to predict the sentiment of tweets based on the labels."
   ]
  },
  {
   "cell_type": "markdown",
   "metadata": {},
   "source": [
    "## Conducting Sentiment Analysis\n",
    "\n",
    "### Loading and Exploring Data\n",
    "\n",
    "The dataset we'll be using today is located in the lab directory named `Sentiment140.csv.zip`. You need to unzip it into a `.csv` file. Then in the cell below, load and explore the data.\n",
    "\n",
    "*Notes:* \n",
    "\n",
    "* The dataset was downloaded from [Kaggle](https://www.kaggle.com/kazanova/sentiment140). We made a slight change on the original data so that each column has a label.\n",
    "\n",
    "* The dataset is huuuuge (1.6m tweets). When you develop your data analysis codes, you can sample a subset of the data (e.g. 20k records) so that you will save a lot of time when you test your codes."
   ]
  },
  {
   "cell_type": "code",
   "execution_count": 8,
   "metadata": {},
   "outputs": [],
   "source": [
    "# your code here\n",
    "import pandas as pd\n",
    "import random"
   ]
  },
  {
   "cell_type": "code",
   "execution_count": 9,
   "metadata": {},
   "outputs": [],
   "source": [
    "col_names = ['target', 'id', 'date', 'flag', 'user', 'text']"
   ]
  },
  {
   "cell_type": "code",
   "execution_count": 10,
   "metadata": {},
   "outputs": [],
   "source": [
    "df = pd.read_csv(\"../data/training.1600000.processed.noemoticon.csv\", encoding='latin1', header=None, names=col_names)"
   ]
  },
  {
   "cell_type": "code",
   "execution_count": 11,
   "metadata": {},
   "outputs": [],
   "source": [
    "df_sample = df.sample(2000)"
   ]
  },
  {
   "cell_type": "code",
   "execution_count": 12,
   "metadata": {},
   "outputs": [],
   "source": [
    "#clean_up\n",
    "import re\n",
    "def clean_up(s):\n",
    "    s_clean = re.sub(r\"https?:/[^\\s]*\", '', s)\n",
    "    s_clean = re.sub(r\"[\\W\\d]\", ' ', s_clean)\n",
    "    return s_clean.lower()"
   ]
  },
  {
   "cell_type": "code",
   "execution_count": 13,
   "metadata": {},
   "outputs": [],
   "source": [
    "#tokenize\n",
    "from nltk import word_tokenize\n",
    "def tokenize(s):\n",
    "    return word_tokenize(s)"
   ]
  },
  {
   "cell_type": "code",
   "execution_count": 14,
   "metadata": {},
   "outputs": [],
   "source": [
    "#stem_and_lemmatize\n",
    "from nltk.stem import WordNetLemmatizer\n",
    "def stem_and_lemmatize(l):\n",
    "    stemmer = SnowballStemmer(\"english\")\n",
    "    stemmed_list = [stemmer.stem(i) for i in l]\n",
    "    lemmatizer = WordNetLemmatizer()\n",
    "    stemmed_and_lemmatized_list = [lemmatizer.lemmatize(i) for i in stemmed_list]\n",
    "    return stemmed_and_lemmatized_list"
   ]
  },
  {
   "cell_type": "code",
   "execution_count": 15,
   "metadata": {},
   "outputs": [],
   "source": [
    "#stopwords\n",
    "from nltk.corpus import stopwords\n",
    "def remove_stopwords(l):\n",
    "    stop_words = set(stopwords.words('english'))\n",
    "    return [w for w in l if w not in stop_words]"
   ]
  },
  {
   "cell_type": "markdown",
   "metadata": {},
   "source": [
    "### Prepare Textual Data for Sentiment Analysis\n",
    "\n",
    "Now, apply the functions you have written in Challenge 1 to your whole data set. These functions include:\n",
    "\n",
    "* `clean_up()`\n",
    "\n",
    "* `tokenize()`\n",
    "\n",
    "* `stem_and_lemmatize()`\n",
    "\n",
    "* `remove_stopwords()`\n",
    "\n",
    "Create a new column called `text_processed` in the dataframe to contain the processed data. At the end, your `text_processed` column should contain lists of word tokens that are cleaned up. Your data should look like below:\n",
    "\n",
    "![Processed Data](data-cleaning-results.png)"
   ]
  },
  {
   "cell_type": "code",
   "execution_count": 16,
   "metadata": {},
   "outputs": [
    {
     "data": {
      "text/html": [
       "<div>\n",
       "<style scoped>\n",
       "    .dataframe tbody tr th:only-of-type {\n",
       "        vertical-align: middle;\n",
       "    }\n",
       "\n",
       "    .dataframe tbody tr th {\n",
       "        vertical-align: top;\n",
       "    }\n",
       "\n",
       "    .dataframe thead th {\n",
       "        text-align: right;\n",
       "    }\n",
       "</style>\n",
       "<table border=\"1\" class=\"dataframe\">\n",
       "  <thead>\n",
       "    <tr style=\"text-align: right;\">\n",
       "      <th></th>\n",
       "      <th>target</th>\n",
       "      <th>id</th>\n",
       "      <th>date</th>\n",
       "      <th>flag</th>\n",
       "      <th>user</th>\n",
       "      <th>text</th>\n",
       "      <th>text_processed</th>\n",
       "    </tr>\n",
       "  </thead>\n",
       "  <tbody>\n",
       "    <tr>\n",
       "      <th>1152008</th>\n",
       "      <td>4</td>\n",
       "      <td>1978673708</td>\n",
       "      <td>Sun May 31 00:05:37 PDT 2009</td>\n",
       "      <td>NO_QUERY</td>\n",
       "      <td>lisaduco</td>\n",
       "      <td>TGIFridays with the homies</td>\n",
       "      <td>[tgifridays, homies]</td>\n",
       "    </tr>\n",
       "    <tr>\n",
       "      <th>539236</th>\n",
       "      <td>0</td>\n",
       "      <td>2199359576</td>\n",
       "      <td>Tue Jun 16 17:23:21 PDT 2009</td>\n",
       "      <td>NO_QUERY</td>\n",
       "      <td>kd38</td>\n",
       "      <td>thinking my cold turned into a sinus infection...</td>\n",
       "      <td>[thinking, cold, turned, sinus, infection, tee...</td>\n",
       "    </tr>\n",
       "    <tr>\n",
       "      <th>110880</th>\n",
       "      <td>0</td>\n",
       "      <td>1824972077</td>\n",
       "      <td>Sun May 17 03:46:05 PDT 2009</td>\n",
       "      <td>NO_QUERY</td>\n",
       "      <td>Jode_x</td>\n",
       "      <td>Need to clean my room.. Be assed like. I just ...</td>\n",
       "      <td>[need, clean, room, assed, like, wan, na, go, ...</td>\n",
       "    </tr>\n",
       "    <tr>\n",
       "      <th>1434302</th>\n",
       "      <td>4</td>\n",
       "      <td>2060613408</td>\n",
       "      <td>Sat Jun 06 19:14:14 PDT 2009</td>\n",
       "      <td>NO_QUERY</td>\n",
       "      <td>MegBunker</td>\n",
       "      <td>Work at 7am tomorrow leaves me no choice but t...</td>\n",
       "      <td>[work, tomorrow, leaves, choice, stay, tonight...</td>\n",
       "    </tr>\n",
       "    <tr>\n",
       "      <th>406439</th>\n",
       "      <td>0</td>\n",
       "      <td>2058930662</td>\n",
       "      <td>Sat Jun 06 15:54:48 PDT 2009</td>\n",
       "      <td>NO_QUERY</td>\n",
       "      <td>jodikicksass</td>\n",
       "      <td>@mumbleguy yes...i don't feel good</td>\n",
       "      <td>[mumbleguy, yes, feel, good]</td>\n",
       "    </tr>\n",
       "    <tr>\n",
       "      <th>...</th>\n",
       "      <td>...</td>\n",
       "      <td>...</td>\n",
       "      <td>...</td>\n",
       "      <td>...</td>\n",
       "      <td>...</td>\n",
       "      <td>...</td>\n",
       "      <td>...</td>\n",
       "    </tr>\n",
       "    <tr>\n",
       "      <th>727170</th>\n",
       "      <td>0</td>\n",
       "      <td>2262759976</td>\n",
       "      <td>Sat Jun 20 23:10:29 PDT 2009</td>\n",
       "      <td>NO_QUERY</td>\n",
       "      <td>bernen</td>\n",
       "      <td>@forces2 It's a win, win, for you then. Enjoyi...</td>\n",
       "      <td>[forces, win, win, enjoying, making, people, l...</td>\n",
       "    </tr>\n",
       "    <tr>\n",
       "      <th>753905</th>\n",
       "      <td>0</td>\n",
       "      <td>2287045077</td>\n",
       "      <td>Mon Jun 22 17:16:32 PDT 2009</td>\n",
       "      <td>NO_QUERY</td>\n",
       "      <td>exosexo</td>\n",
       "      <td>@Spuffboy I know how you feel. I used to love ...</td>\n",
       "      <td>[spuffboy, know, feel, used, love, tim, burton...</td>\n",
       "    </tr>\n",
       "    <tr>\n",
       "      <th>1284261</th>\n",
       "      <td>4</td>\n",
       "      <td>2002024442</td>\n",
       "      <td>Tue Jun 02 02:53:24 PDT 2009</td>\n",
       "      <td>NO_QUERY</td>\n",
       "      <td>samradford</td>\n",
       "      <td>@sprize haha! We'll have to come over, drop he...</td>\n",
       "      <td>[sprize, haha, come, drop, guys, night, whilst...</td>\n",
       "    </tr>\n",
       "    <tr>\n",
       "      <th>1429398</th>\n",
       "      <td>4</td>\n",
       "      <td>2059730992</td>\n",
       "      <td>Sat Jun 06 17:31:22 PDT 2009</td>\n",
       "      <td>NO_QUERY</td>\n",
       "      <td>Lottiie_</td>\n",
       "      <td>http://www.blogtv.com/People/Lottiie_    come ...</td>\n",
       "      <td>[come]</td>\n",
       "    </tr>\n",
       "    <tr>\n",
       "      <th>1387947</th>\n",
       "      <td>4</td>\n",
       "      <td>2052982411</td>\n",
       "      <td>Sat Jun 06 02:48:10 PDT 2009</td>\n",
       "      <td>NO_QUERY</td>\n",
       "      <td>wartornheart</td>\n",
       "      <td>Dream house!</td>\n",
       "      <td>[dream, house]</td>\n",
       "    </tr>\n",
       "  </tbody>\n",
       "</table>\n",
       "<p>2000 rows × 7 columns</p>\n",
       "</div>"
      ],
      "text/plain": [
       "         target          id                          date      flag  \\\n",
       "1152008       4  1978673708  Sun May 31 00:05:37 PDT 2009  NO_QUERY   \n",
       "539236        0  2199359576  Tue Jun 16 17:23:21 PDT 2009  NO_QUERY   \n",
       "110880        0  1824972077  Sun May 17 03:46:05 PDT 2009  NO_QUERY   \n",
       "1434302       4  2060613408  Sat Jun 06 19:14:14 PDT 2009  NO_QUERY   \n",
       "406439        0  2058930662  Sat Jun 06 15:54:48 PDT 2009  NO_QUERY   \n",
       "...         ...         ...                           ...       ...   \n",
       "727170        0  2262759976  Sat Jun 20 23:10:29 PDT 2009  NO_QUERY   \n",
       "753905        0  2287045077  Mon Jun 22 17:16:32 PDT 2009  NO_QUERY   \n",
       "1284261       4  2002024442  Tue Jun 02 02:53:24 PDT 2009  NO_QUERY   \n",
       "1429398       4  2059730992  Sat Jun 06 17:31:22 PDT 2009  NO_QUERY   \n",
       "1387947       4  2052982411  Sat Jun 06 02:48:10 PDT 2009  NO_QUERY   \n",
       "\n",
       "                 user                                               text  \\\n",
       "1152008      lisaduco                        TGIFridays with the homies    \n",
       "539236           kd38  thinking my cold turned into a sinus infection...   \n",
       "110880         Jode_x  Need to clean my room.. Be assed like. I just ...   \n",
       "1434302     MegBunker  Work at 7am tomorrow leaves me no choice but t...   \n",
       "406439   jodikicksass                @mumbleguy yes...i don't feel good    \n",
       "...               ...                                                ...   \n",
       "727170         bernen  @forces2 It's a win, win, for you then. Enjoyi...   \n",
       "753905        exosexo  @Spuffboy I know how you feel. I used to love ...   \n",
       "1284261    samradford  @sprize haha! We'll have to come over, drop he...   \n",
       "1429398      Lottiie_  http://www.blogtv.com/People/Lottiie_    come ...   \n",
       "1387947  wartornheart                                       Dream house!   \n",
       "\n",
       "                                            text_processed  \n",
       "1152008                               [tgifridays, homies]  \n",
       "539236   [thinking, cold, turned, sinus, infection, tee...  \n",
       "110880   [need, clean, room, assed, like, wan, na, go, ...  \n",
       "1434302  [work, tomorrow, leaves, choice, stay, tonight...  \n",
       "406439                        [mumbleguy, yes, feel, good]  \n",
       "...                                                    ...  \n",
       "727170   [forces, win, win, enjoying, making, people, l...  \n",
       "753905   [spuffboy, know, feel, used, love, tim, burton...  \n",
       "1284261  [sprize, haha, come, drop, guys, night, whilst...  \n",
       "1429398                                             [come]  \n",
       "1387947                                     [dream, house]  \n",
       "\n",
       "[2000 rows x 7 columns]"
      ]
     },
     "execution_count": 16,
     "metadata": {},
     "output_type": "execute_result"
    }
   ],
   "source": [
    "# your code here\n",
    "df_sample['text_processed'] = df_sample['text'].apply(clean_up)\n",
    "df_sample['text_processed'] = df_sample['text_processed'].apply(tokenize, stem_and_lemmatize)\n",
    "df_sample['text_processed'] = df_sample['text_processed'].apply(remove_stopwords)\n",
    "df_sample"
   ]
  },
  {
   "cell_type": "markdown",
   "metadata": {},
   "source": [
    "### Creating Bag of Words\n",
    "\n",
    "The purpose of this step is to create a [bag of words](https://en.wikipedia.org/wiki/Bag-of-words_model) from the processed data. The bag of words contains all the unique words in your whole text body (a.k.a. *corpus*) with the number of occurrence of each word. It will allow you to understand which words are the most important features across the whole corpus.\n",
    "\n",
    "Also, you can imagine you will have a massive set of words. The less important words (i.e. those of very low number of occurrence) do not contribute much to the sentiment. Therefore, you only need to use the most important words to build your feature set in the next step. In our case, we will use the top 5,000 words with the highest frequency to build the features.\n",
    "\n",
    "In the cell below, combine all the words in `text_processed` and calculate the frequency distribution of all words. A convenient library to calculate the term frequency distribution is NLTK's `FreqDist` class ([documentation](https://www.nltk.org/api/nltk.html#module-nltk.probability)). Then select the top 5,000 words from the frequency distribution."
   ]
  },
  {
   "cell_type": "code",
   "execution_count": 17,
   "metadata": {},
   "outputs": [],
   "source": [
    "# your code here\n",
    "from nltk.probability import FreqDist"
   ]
  },
  {
   "cell_type": "code",
   "execution_count": 18,
   "metadata": {},
   "outputs": [],
   "source": [
    "all_text_processed = []\n",
    "for l in df_sample[\"text_processed\"]:\n",
    "    for w in l:\n",
    "        all_text_processed.append(w)\n",
    "    fdist = FreqDist\n",
    "    fdist = FreqDist(w for w in all_text_processed)"
   ]
  },
  {
   "cell_type": "code",
   "execution_count": 19,
   "metadata": {},
   "outputs": [
    {
     "name": "stdout",
     "output_type": "stream",
     "text": [
      "['good', 'get', 'like', 'go', 'day', 'love', 'today', 'im', 'going', 'quot', 'lol', 'work', 'really', 'know', 'want', 'amp', 'one', 'got', 'u', 'time', 'see', 'night', 'think', 'back', 'still', 'need', 'feel', 'haha', 'oh', 'well', 'sorry', 'twitter', 'na', 'miss', 'new', 'home', 'last', 'thanks', 'much', 'tomorrow', 'wish', 'hope', 'great', 'happy', 'though', 'morning', 'sad', 'yes', 'fun', 'nice', 'bed', 'hey', 'getting', 'gon', 'sleep', 'hate', 'school', 'bad', 'wait', 'take', 'x', 'would', 'first', 'could', 'dont', 'guys', 'ready', 'later', 'come', 'done', 'even', 'lt', 'weekend', 'next', 'never', 'make', 'amazing', 'right', 'cool', 'cant', 'tonight', 'week', 'phone', 'thing', 'us', 'way', 'movie', 'watching', 'another', 'life', 'best', 'saw', 'n', 'say', 'watch', 'long', 'baby', 'better', 'bit', 'away', 'tired', 'please', 'sure', 'people', 'cold', 'house', 'soon', 'look', 'hungry', 'ok', 'always', 'sun', 'start', 'days', 'yesterday', 'everyone', 'let', 'awesome', 'tell', 'missed', 'man', 'little', 'find', 'sucks', 'show', 'looking', 'yeah', 'follow', 'looks', 'nothing', 'something', 'thank', 'made', 'sick', 'friends', 'party', 'try', 'tweet', 'hear', 'someone', 'already', 'wow', 'late', 'big', 'live', 'eat', 'trying', 'waiting', 'okay', 'end', 'gone', 'wan', 'stupid', 'might', 'without', 'class', 'stuff', 'world', 'early', 'yay', 'missing', 'damn', 'leave', 'summer', 'glad', 'stay', 'left', 'finally', 'omg', 'gt', 'actually', 'idea', 'put', 'check', 'friend', 'w', 'feeling', 'bored', 'god', 'working', 'song', 'head', 'maybe', 'year', 'tho', 'ur', 'free', 'anyone', 'hot', 'win', 'things', 'yet', 'boo', 'talk', 'listening', 'weeks', 'woke', 'makes', 'aww', 'person', 'used', 'outside', 'shit', 'guess', 'old', 'finished', 'many', 'whole', 'lost', 'ugh', 'seen', 'two', 'drink', 'keep', 'music', 'help', 'hair', 'thinking', 'almost', 'sweet', 'sooo', 'p', 'r', 'dinner', 'â', 'rain', 'says', 'wrong', 'raining', 'said', 'enough', 'seems', 'anything', 'went', 'coming', 'dad', 'sounds', 'read', 'monday', 'mom', 'must', 'hi', 'give', 'food', 'hours', 'birthday', 'lot', 'since', 'thought', 'called', 'also', 'followers', 'far', 'london', 'car', 'found', 'e', 'boys', 'busy', 'pretty', 'real', 'enjoy', 'quite', 'playing', 'iphone', 'hopefully', 'weather', 'excited', 'full', 'ya', 'th', 'poor', 'wants', 'news', 'ta', 'ill', 'horrible', 'following', 'use', 'till', 'together', 'special', 'tweets', 'anymore', 'beautiful', 'hit', 'beach', 'suck', 'play', 'care', 'open', 'awww', 'ppl', 'taking', 'internet', 'sigh', 'whats', 'able', 'movies', 'forgot', 'making', 'headache', 'problem', 'hell', 'cute', 'asleep', 'reading', 'remember', 'part', 'stop', 'except', 'laptop', 'wit', 'everything', 'add', 'kinda', 'place', 'favorite', 'sunny', 'friday', 'awake', 'face', 'www', 'com', 'hahaha', 'games', 'around', 'mean', 'date', 'c', 'welcome', 'town', 'believe', 'heard', 'else', 'couple', 'ass', 'boy', 'figure', 'seem', 'hard', 'aw', 'mind', 'least', 'dear', 'post', 'bus', 'ago', 'pic', 'didnt', 'ask', 'room', 'xxx', 'dreams', 'soo', 'probably', 'gets', 'songs', 'funny', 'ive', 'especially', 'feels', 'photos', 'saturday', 'sore', 'cry', 'season', 'hurts', 'forward', 'stuck', 'bet', 'blog', 'hour', 'mtv', 'cause', 'job', 'video', 'ha', 'goodnight', 'weird', 'shower', 'hello', 'game', 'came', 'jealous', 'rock', 'luck', 'buy', 'told', 'wanted', 'tv', 'b', 'ff', 'lovely', 'usual', 'sleeping', 'k', 'every', 'lunch', 'turned', 'exhausted', 'saying', 'nite', 'ah', 'talking', 'ever', 'mail', 'pics', 'ddlovato', 'fell', 'em', 'lately', 'chicken', 'upload', 'fan', 'cut', 'money', 'dvd', 'unfortunately', 'true', 'btw', 'longer', 'album', 'listen', 'sleepy', 'hurt', 'guitar', 'died', 'list', 'mood', 'thats', 'super', 'upset', 'send', 'boring', 'years', 'guy', 'beer', 'may', 'ice', 'hehe', 'wtf', 'girl', 'small', 'half', 'putting', 'join', 'eh', 'goes', 'jonasbrothers', 'train', 'pay', 'vote', 'change', 'break', 'dance', 'eating', 'text', 'water', 'wondering', 'perfect', 'computer', 'loving', 'meet', 'mine', 'fucking', 'hrs', 'bgt', 'goin', 'design', 'call', 'drunk', 'learning', 'fans', 'followfriday', 'matter', 'crying', 'sent', 'shopping', 'bc', 'ear', 'family', 'park', 'walking', 'lmao', 'h', 'crap', 'mr', 'xd', 'tour', 'yea', 'broke', 'anyway', 'high', 'empty', 'run', 'sunday', 'afternoon', 'dude', 'exam', 'broken', 'air', 'france', 'plane', 'picture', 'mad', 'awards', 'laugh', 'totally', 'band', 'heading', 'single', 'radio', 'instead', 'yep', 'fail', 'mins', 'bye', 'worst', 'black', 'june', 'xx', 'block', 'cream', 'kind', 'email', 'flowers', 'along', 'shows', 'race', 'exactly', 'alone', 'tweeting', 'studying', 'word', 'message', 'susan', 'name', 'study', 'exams', 'fair', 'cake', 'online', 'decided', 'college', 'tickets', 'xxxx', 'tea', 'alright', 'mcfly', 'photo', 'lots', 'card', 'bday', 'mileycyrus', 'tommcfly', 'g', 'enjoying', 'took', 'trip', 'rd', 'breakfast', 'dat', 'msn', 'finish', 'silly', 'die', 'confused', 'four', 'cats', 'paris', 'hospital', 'flight', 'save', 'forever', 'non', 'grand', 'de', 'hugs', 'trouble', 'bbq', 'ã', 'joke', 'behind', 'wont', 'art', 'ginger', 'bummed', 'page', 'hills', 'seeing', 'neck', 'played', 'kid', 'server', 'fuck', 'havent', 'picked', 'st', 'happen', 'rainy', 'pick', 'lets', 'john', 'nerd', 'running', 'deserved', 'xoxo', 'month', 'loud', 'plan', 'price', 'prom', 'leaving', 'allowed', 'mother', 'tweetdeck', 'packing', 'via', 'count', 'sitting', 'husband', 'lucky', 'met', 'release', 'fuckin', 'coffee', 'tree', 'three', 'tips', 'watched', 'congratulations', 'usually', 'lose', 'problems', 'finals', 'finger', 'bring', 'mark', 'drinking', 'meeting', 'chocolate', 'milk', 'revise', 'cough', 'app', 'works', 'watchin', 'site', 'hmm', 'body', 'service', 'definitely', 'side', 'sexy', 'pictures', 'roll', 'middle', 'nick', 'bf', 'website', 'using', 'number', 'fb', 'plus', 'english', 'link', 'wishing', 'huge', 'fresh', 'tuesday', 'da', 'agree', 'short', 'sing', 'hoping', 'sat', 'ride', 'book', 'f', 'keeps', 'worried', 'slept', 'road', 'blast', 'none', 'round', 'wednesday', 'minute', 'taylor', 'film', 'either', 'comes', 'story', 'sister', 'sometimes', 'starting', 'shame', 'crazy', 'studio', 'beat', 'wedding', 'profile', 'pass', 'box', 'classes', 'pages', 'hun', 'lakers', 'diversity', 'tried', 'near', 'gym', 'fml', 'hoo', 'checking', 'bam', 'scary', 'boyle', 'mommy', 'felt', 'dream', 'kids', 'drive', 'match', 'fit', 'voice', 'wake', 'fall', 'answer', 'brother', 'dog', 'hm', 'clean', 'times', 'choice', 'paper', 'books', 'point', 'headed', 'hannah', 'everybody', 'arms', 'needed', 'megan', 'serious', 'bright', 'fine', 'touch', 'final', 'nervous', 'ribs', 'blues', 'smell', 'joy', 'power', 'ol', 'editing', 'fast', 'yu', 'yo', 'dudes', 'strange', 'reply', 'strong', 'bags', 'feed', 'morn', 'magic', 'local', 'hug', 'tweeps', 'daily', 'lc', 'gen', 'ps', 'fat', 'peach', 'button', 'due', 'forget', 'july', 'parents', 'um', 'google', 'performance', 'def', 'bb', 'bitch', 'snow', 'dia', 'musical', 'player', 'ahh', 'write', 'ipod', 'pair', 'cell', 'laurenconrad', 'jonathanrknight', 'bear', 'babe', 'yesss', 'shirt', 'sign', 'ticket', 'cloudy', 'holiday', 'fathers', 'cruel', 'staying', 'lady', 'ima', 'mental', 'mini', 'shop', 'windows', 'holla', 'inside', 'six', 'flags', 'davidarchie', 'san', 'loss', 'deserve', 'boyfriend', 'red', 'known', 'cookies', 'twittering', 'amen', 'ng', 'reviews', 'feet', 'phones', 'move', 'test', 'mike', 'exciting', 'report', 'liked', 'tht', 'tweeter', 'death', 'transformers', 'coz', 'sold', 'random', 'apple', 'order', 'dentist', 'uni', 'fact', 'stole', 'version', 'apparently', 'bunch', 'fantastic', 'looked', 'chick', 'ladies', 'crash', 'nap', 'stars', 'brazil', 'means', 'james', 'vip', 'uk', 'joined', 'anytime', 'close', 'ate', 'cuz', 'account', 'miles', 'led', 'david', 'scared', 'closed', 'math', 'shout', 'cancelled', 'hang', 'awwww', 'stomach', 'gig', 'gorgeous', 'gave', 'treatment', 'workin', 'smile', 'peeps', 'fight', 'war', 'uh', 'learn', 'walk', 'hmmm', 'woop', 'ooh', 'beatles', 'wonder', 'understand', 'everyones', 'abt', 'hw', 'couldnt', 'spin', 'reason', 'writing', 'annoying', 'giving', 'shape', 'aka', 'failed', 'l', 'laying', 'absolutely', 'downstairs', 'five', 'goal', 'punch', 'project', 'hand', 'chris', 'shoes', 'bless', 'camera', 'less', 'sell', 'married', 'lame', 'note', 'fries', 'second', 'la', 'turn', 'dress', 'makeup', 'os', 'gs', 'til', 'hahahaha', 'apartment', 'nd', 'guests', 'andy', 'nope', 'itunes', 'started', 'advice', 'alot', 'bout', 'ended', 'reminds', 'minutes', 'beginning', 'moment', 'needs', 'decide', 'throat', 'rest', 'mi', 'j', 'track', 'glass', 'mall', 'cousin', 'bike', 'office', 'interesting', 'expensive', 'huh', 'woot', 'boss', 'supposed', 'changed', 'major', 'monies', '½', 'ch', 'calling', 'waking', 'rule', 'ni', 'finale', 'copy', 'tummy', 'pool', 'mac', 'yall', 'homework', 'whoop', 'barely', 'question', 'calls', 'everyday', 'words', 'makin', 'teeth', 'leaves', 'wrote', 'closer', 'schnapps', 'numbers', 'revision', 'hubs', 'tradition', 'tan', 'ewww', 'taken', 'irish', 'timee', 'mitchelmusso', 'stinks', 'state', 'youtube', 'england', 'older', 'returned', 'daughter', 'travel', 'update', 'knows', 'bug', 'overnight', 'fav', 'se', 'twitpic', 'jonathan', 'showed', 'installing', 'mozilla', 'loads', 'altho', 'vodka', 'lil', 'pups', 'yrs', 'poo', 'gray', 'sorting', 'engagement', 'arent', 'kitchen', 'ones', 'experience', 'brain', 'deck', 'ehnjohyable', 'daft', 'facebook', 'white', 'city', 'prepared', 'waaa', 'soooo', 'front', 'surrender', 'positive', 'tank', 'lad', 'across', 'grind', 'sum', 'dnt', 'theres', 'grad', 'current', 'atleast', 'freaking', 'enter', 'screw', 'absolute', 'shattered', 'kidding', 'adam', 'takes', 'possible', 'country', 'jade', 'paradise', 'light', 'yucky', 'funds', 'earth', 'lalala', 'saturdays', 'cuddle', 'bobby', 'peter', 'bloggers', 'z', 'pizza', 'terminator', 'possibly', 'sooner', 'iconic', 'whenever', 'crashes', 'eu', 'flash', 'expert', 'humid', 'earlier', 'theatre', 'flawless', 'anywhere', 'cable', 'marry', 'perezhilton', 'sayin', 'backyard', 'caught', 'pops', 'attempting', 'motivation', 'review', 'ryan', 'girls', 'playin', 'joking', 'blue', 'eyed', 'hahaa', 'unless', 'cos', 'addicted', 'asking', 'reasons', 'sg', 'presentation', 'heart', 'dislikes', 'searching', 'worse', 'unpacking', 'lite', 'screen', 'dead', 'newbie', 'phrase', 'bank', 'fairly', 'hilton', 'tears', 'bloody', 'nose', 'alive', 'identity', 'energy', 'moon', 'trailer', 'wif', 'jenna', 'herb', 'course', 'bo', 'expires', 'gf', 'relate', 'eachother', 'stalk', 'cinema', 'california', 'isnt', 'fever', 'permanent', 'waste', 'cares', 'contre', 'hï', 'derby', 'ale', 'commercial', 'nicholasbraun', 'iamdiddy', 'orange', 'pink', 'posted', 'dm', 'youngq', 'heavy', 'hardcore', 'wv', 'pain', 'vacation', 'charger', 'updating', 'tying', 'easy', 'celebrate', 'brunch', 'wat', 'support', 'dougiemcfly', 'title', 'hav', 'cone', 'worries', 'gfalcone', 'sleeps', 'havnt', 'store', 'browsing', 'whatever', 'normally', 'url', 'chat', 'window', 'copied', 'canadian', 'hayfever', 'dressed', 'songzyuuup', 'potential', 'gettin', 'package', 'v', 'bar', 'comedy', 'america', 'status', 'wishes', 'tough', 'parts', 'projector', 'gas', 'wearing', 'donniewahlberg', 'nh', 'launch', 'resting', 'tutorial', 'speed', 'channel', 'longest', 'lie', 'goodness', 'painful', 'somewhere', 'surprise', 'planned', 'struggling', 'happens', 'loser', 'cards', 'diddly', 'dum', 'heyy', 'article', 'history', 'skin', 'ed', 'id', 'flip', 'flops', 'mob', 'fake', 'subway', 'baseball', 'jumping', 'steve', 'chores', 'min', 'act', 'direct', 'messed', 'months', 'flickr', 'bag', 'cock', 'software', 'concert', 'woohoo', 'happiness', 'preparing', 'claim', 'level', 'folks', 'soup', 'universe', 'bake', 'hates', 'greens', 'projects', 'double', 'packed', 'catching', 'asked', 'log', 'makan', 'gum', 'stoked', 'stereo', 'dumb', 'bestie', 'slowly', 'spot', 'fiber', 'lady_jade', 'source', 'updates', 'vs', 'ages', 'hung', 'enjoyable', 'physical', 'therapy', 'session', 'knee', 'traffic', 'jam', 'camp', 'progress', 'chillen', 'french', 'luv', 'imma', 'rite', 'balloon', 'cakes', 'blood', 'north', 'form', 'object', 'follows', 'addictive', 'doors', 'rent', 'platinum', 'ms', 'spent', 'waffles', 'nights', 'terrible', 'grow', 'bananas', 'frustrated', 'intervention', 'star', 'hahah', 'cried', 'domestic', 'sadly', 'jaredpadalecki', 'entire', 'symbian', 'visit', 'register', 'cat', 'thx', 'insane', 'board', 'gp', 'figured', 'kicking', 'yummy', 'law', 'thoughts', 'cheer', 'practice', 'airport', 'killing', 'caring', 'woah', 'sit', 'presents', 'etc', 'homemade', 'yah', 'yeahh', 'holy', 'mrgilder', 'boards', 'rockin', 'ears', 'sa', 'american', 'shipping', 'waffle', 'iron', 'crashed', 'dieting', 'twitterberry', 'praying', 'seriously', 'appointment', 'gosh', 'lulu', 'sara', 'reset', 'everytime', 'xcode', 'nobody', 'spray', 'ahhh', 'tweeterfollow', 'whore', 'tongue', 'strength', 'sooooo', 'sunshine', 'impossible', 'previous', 'linux', 'thunderstorm', 'explain', 'trash', 'cheese', 'steak', 'important', 'obviously', 'plans', 'cazeliah', 'fingers', 'geek', 'dunno', 'pls', 'liking', 'faith', 'mmm', 'self', 'past', 'dannygokey', 'drums', 'media', 'blocked', 'iran', 'happening', 'gift', 'bro', 'sound', 'given', 'upgrade', 'features', 'accomplished', 'chart', 'mothers', 'glee', 'stories', 'rubbish', 'conversations', 'doin', 'tonite', 'upper', 'paying', 'samberg', 'fish', 'sea', 'jammin', 'knackered', '_', 'mission', 'castle', 'injection', 'bird', 'ooo', 'leg', 'church', 'active', 'childhood', 'return', 'catch', 'mcdonald', 'series', 'italy', 'noon', 'awkward', 'questions', 'extremely', 'anniversary', 'crystalchappell', 'group', 'desperate', 'gona', 'sweetheart', 'jeans', 'sony', 'kisses', 'moms', 'however', 'impressed', 'urgh', 'fly', 'gah', 'awhile', 'dannymcfly', 'user', 'company', 'canada', 'jst', 'arcade', 'urinal', 'butt', 'cd', 'age', 'planning', 'afford', 'ughhhhh', 'houses', 'rented', '½m', 'ugly', 'knew', 'ne', 'weekends', 'india', 'degrees', 'melt', 'tbh', 'mmmmm', 'bread', 'thingy', 'taylorswift', 'gods', 'set', 'indian', 'bedtime', 'cheeky', 'club', 'nearly', 'plz', 'sudden', 'teacher', 'students', 'lookin', 'net', 'imagine', 'issue', 'crowd', 'banquet', 'persuade', 'bradiewebbstack', 'congrats', 'opened', 'timeout', 'response', 'stopped', 'posting', 'safe', 'buddies', 'neg', 'etsy', 'realized', 'miley', 'gordon', 'invited', 'worry', 'thi', 'mï', 'marathon', 'brilliant', 'bugs', 'although', 'brooklyn', 'ittt', 'connected', 'forecast', 'worlds', 'woman', 'hmph', 'sympathy', 'rather', 'beta', 'oooh', 'august', 'control', 'jacob', 'freakin', 'bucks', 'knot', 'hero', 'guessing', 'strat', 'joyntheir', 'favourite', 'prayer', 'tom', 'danny', 'blah', 'co', 'fed', 'fully', 'football', 'letting', 'macbook', 'pro', 'helped', 'lake', 'lines', 'effect', 'rice', 'backing', 'shoulda', 'shall', 'squishy', 'spinning', 'ball', 'dj', 'request', 'moved', 'plastic', 'username', 'keys', 'loved', 'ideas', 'interested', 'tweeters', 'falling', 'jk', 'student', 'effin', 'chicago', 'fairview', 'bom', 'gr', 'brat', 'youth', 'allow', 'alcohol', 'pre', 'port', 'idol', 'kno', 'social', 'chapters', 'flew', 'jobs', 'hop', 'land', 'mistake', 'swear', 'storming', 'clothes', 'covered', 'interview', 'julian', 'smith', 'avatar', 'ny', 'sour', 'wasnt', 'purse', 'leno', 'view', 'tons', 'arrived', 'flex', 'feature', 'business', 'fixed', 'maybee', 'authority', 'ahead', 'stated', 'ang', 'garden', 'completely', 'lisa', 'ing', 'pa', 'ko', 'straight', 'lang', 'squarespace', 'joeymcintyre', 'margaret', 'salt', 'nai', 'toy', 'core', 'remm', 'hotel', 'pickle', 'tgifridays', 'homies', 'sinus', 'infection', 'hurting', 'thru', 'sinuses', 'assed', 'jodie', 'thursday', 'sly', 'curl', 'couch', 'mumbleguy', 'oystermag', 'mag', 'oyster', 'fix', 'alaindebotton', 'aussie', 'hugo', 'weaving', 'lists', 'amongst', 'fave', 'material', 'resourcefulmom', 'sponsors', 'perked', 'formerfatguy', 'nbs', 'schnapszahlen', 'loosely', 'translated', 'nb', 'tmill', 'mani', 'pedi', 'maths', 'tyk', 'thurs', 'papa', 'burns', 'burn', 'peeling', 'nkotb', 'alike', 'enigmatist', 'witty', 'clever', 'keithfries', 'amandaades', 'wasent', 'bein', 'samee', 'carole', 'curry', 'skills', 'en', 'alain', 'clark', 'newly', 'washed', 'videos', 'mate', 'niamh', 'twittered', 'verbz', 'fuuuuuuuun', 'weeeee', 'mileyraysupport', 'cornwall', 'beatiful', 'translating', 'laughing', 'terribly', 'nikkihowe', 'hooked', 'nadanada', 'ghost', 'gonnnae', 'greet', 'jamaican', 'airlines', 'acaboooooo', 'el', 'lyricist_juice', 'lololol', 'scottmckenna', 'havn', 'caesars', 'maryland', 'brandis', 'ashleyolsen', 'challenge', 'glam', 'mistakes', 'regret', 'potentially', 'hanging', 'yanelva', 'corrupts', 'electricity', 'unknown', 'chechunor', 'endorfinas', 'ftw', 'egg', 'timer', 'burned', 'besties', 'stupidness', 'gemma', 'desaster', 'creatitwitty', 'grins', 'ycr', 'pkmn', 'diamond', 'pearl', 'fraserspeirs', 'written', 'dozens', 'corned', 'alexthefern', 'sfyb', 'ariaajaeger', 'ariaa', 'pix', 'darlin', 'prayers', 'sheryonstone', 'flying_roundhouse', 'journey', 'sal_mor', 'breathing', 'goose', 'loose', 'thinkin', 'terri', 'rubyam', 'poutine', 'cheetos', 'maine', 'deer', 'stella', 'onlineeee', 'kiime', 'nancyo', 'thetortefeasor', 'poolish', 'baaallssss', 'ccarter', 'wht', '_crc_', 'dope', 'hothusband_', 'bã', 'ey', 'musiciscool', 'eet', 'wuz', 'cuh', 'laire', 'tjholmescnn', 'keeping', 'phatpete', 'sunshiine', 'hiding', 'cloud', 'lukeeeeee', 'fridays', 'makrambag', 'orchid', 'riviera', 'unfortunatly', 'pissed', 'djtlac', 'kiddo', 'rains', 'nigh', 'donate', 'csuf', 'alllllll', 'caresss', 'applied', 'shark', 'cornwall_info', 'fistral', 'dogs', 'aug', 'deserted', 'perks', 'plussizecutie', 'alyankovic', 'weirdal', 'zzz', 'drisgill', 'pond', 'sherubii', 'ia', 'rise', 'welllllll', 'kings', 'leon', 'smooches', 'mistabiggz', 'qimme', 'greedy', 'nuffinq', 'doinq', 'qraphix', 'muh', 'deadddddddd', 'bedroom', 'tanning', 'kristins', 'angierobert', 'treating', 'released', 'greatest', 'hits', 'mbobadilla', 'shots', 'duanemoody', 'upgraded', 'graphics', 'gens', 'coeah', 'ald', 'iconoguy', 'occasion', 'vodkaredbull', 'delic', 'sugar', 'copious', 'amounts', 'aubrebre', 'adrian', 'yogurt', 'malarkey', 'rough', 'khurammalik', 'peace', 'realize', 'photographer', 'lauraes', 'fa', 'sho', 'machetes', 'sombreros', 'hxc', 'lambert', 'jpadamson', 'relase', 'fryup', 'dashboard', 'grandchildren', 'handle', 'sv', 'brewers', 'fuelthefighter', 'materialize', 'appearance', 'expo', 'vrockalily', 'reminding', 'arturs', 'itä', 'lija', 'roma', 'redzama', 'arä', 'heeeeeeeeey', 'liiiiiiiiiiiiisten', 'lucyjonesxx', 'ohh', 'myn', 'lying', 'wreck', 'doesnt', 'haley', 'wasteful', 'normy_lohan', 'comment', 'ericakelly', 'surely', 'computadora', 'virtually', 'sending', 'carrie_ell_xx', 'according', 'treat', 'rach', 'yack', 'decent', 'lina', 'katienaas', 'longstride', 'motorcyclists', 'misery', 'wheresitworking', 'settings', 'shakamaiden', 'tenho', 'curso', 'drc', 'sarahayars', 'carowinds', 'bgermainx', 'swimmin', 'sarah_jean', 'icanlearntolove', 'kiss', 'kreativlink', 'drag', 'bold', 'mayer', 'tombeasley', 'depend', 'whether', 'lord', 'mikegentile', 'ahhhhh', 'tony', 'darrenporter', 'https', 'continues', 'telstraclear', 'rashadmc', 'derek', 'ibisque', 'hongboseok', 'fabulous', 'somehow', 'highly', 'unlikely', 'peoples', 'stalker', 'fools', 'nastia', 'bigdotstry_', 'bighead', 'believable', 'talkin', 'apparent', 'rehearsal', 'pirates', 'sword', 'alley', 'geekiness', 'repeat', 'embracing', 'mg', 'ego', 'swag', 'blu', 'ray', 'retardation', 'hd', 'cartoons', 'gusto', 'literature', 'woe', 'row', 'boating', 'central', 'xlindziex', 'creep', 'ryanseacrest', 'nigga', 'hooky', 'damnit', 'jonathanscary', 'barefoot', 'mm', 'fraction', 'unbelievable', 'translation', 'barefootsound', 'nylontwilight', 'gw', 'ada', 'rapat', 'osis', 'gitu', 'deh', 'cuma', 'bantu', 'buat', 'paling', 'bentar', 'huhuhuhuuuuu', 'pets', 'ludajuice', 'craigwhitten', 'laurbrit', 'nycdoll', 'adorable', 'brunette', 'pnkrcklibrarian', 'remembered', 'snowden', 'gazey', 'oomph', 'gerardway', 'wubs', 'depond', 'bothered', 'vibes', 'cosmicgirlie', 'numero', 'dos', 'comfy', 'ezy', 'sga', 'heyree', 'swedish', 'suckish', 'bleurgh', 'orlando', 'rockonrebelchld', 'loves', 'trends', 'section', 'twitterrfic', 'sethu', 'present', 'ekkadina', 'vacancies', 'untey', 'cheppu', 'trentg', 'sewed', 'screaming', 'v_v', 'quesadilla', 'quesadiaas', 'bombbb', 'scream', 'angelinaluve', 'jackass', 'bruvaaa', 'thelegendmyst', 'aaahhhhhh', 'vinyl', 'acetate', 'imac', 'pixel', 'rows', 'babyplanetexpo', 'ummm', 'virtual', 'nashville', 'dakotafanning', 'barcelona', 'bossy', 'twitterville', 'scotland', 'libeydawg', 'mediapeople', 'jeannie_kaye', 'young', 'myrobpattinson', 'publisist', 'emotional', 'accurate', 'hello_jodie', 'hoppusday', 'barkerday', 'bff', 'oin', 'thomas', 'fiss', 'member', 'vfc', 'sugarkanne', 'hopes', 'franky', 'onto', 'hardwood', 'xjonasfans', 'magazines', 'future', 'ciao', 'xo', 'rentacops', 'theyr', 'prick', 'fraud', 'monsters', 'stitched', 'superbapesta', 'hype', 'frm', 'mrs', 'moonchild', 'hurray', 'jenwen', 'nicola', 'chim', 'gary', 'happiest', 'comic', 'strip', 'rachel_joy', 'calvin', 'harris', 'zac', 'efron', 'bree_ann_dan', 'dying', 'shouldnt', 'messing', 'fuckng', 'alexleonard', 'pal', 'advise', 'antivirus', 'prog', 'opera', 'ergh', 'terminal', 'rocky', 'outta', 'notices', 'technet', 'subscription', 'figuring', 'inc', 'farmers', 'market', 'roosters', 'inappropreate', 'piratemermaid', 'ottawa', 'sherrie', 'chi', 'cooked', 'rave', 'puppy', 'gwam', 'pooks', 'wuuuvs', 'starrahlicious', 'diego', 'jogging', 'twitland', 'shocked', 'zicam', 'graduation', 'clothess', 'sucked', 'cutting', 'driveway', 'workout', 'cluj', 'pe', 'baza', 'examene', 'bluntmatt', 'par', 'si', 'tu', 'peux', 'voir', 'devil', 'dolls', 'ou', 'unholy', '½site', 'pas', 'blighty', 'flutter', 'epsom', 'thumbs', 'child', 'oprah', 'ciaolaura', 'opted', 'plain', 'ole', 'alka', 'seltzer', 'cheez', 'boobs', 'neighbours', 'diddy', 'rez', 'building', 'woooohooo', 'roger', 'holly_baugh', 'ddub', 'tweeted', 'afterparty', 'tbartels', 'sf', 'christinajade', 'prefer', 'flower', 'girly', 'patterns', 'kitty', 'yellowblot', 'exact', 'jenniferstirlin', 'concentrating', 'macbeth', 'pull', 'peperami', 'scratch', 'du', 'heif', 'tum', 'shoog', 'poots', 'undacuvabrutha', 'jasminemcatee', 'gdnite', 'loooooove', 'speak', 'cantonese', 'honor', 'philippines', 'wallpaper', 'presscon', 'sentences', 'iknow', 'role', 'monthly', 'visitor', 'ahhhhhh', 'yaseminx', 'charlie', 'wet', 'austin', 'karli', 'friar', 'uptown', 'dallas', 'outtweet', 'salmon', 'newyorkpirate', 'sidekick', 'kidnappedbella', 'petermday', 'filling', 'wolfsphayne', 'lelandstrott', 'eventually', 'obsessed', 'metro_chic', 'judge', 'decorating', 'balloons', 'purple', 'plisnoh', 'neeeds', 'eaten', 'shauna', 'simchansr', 'frnds', 'noe', 'poised', 'avilewin', 'bonus', 'newbluefx', 'plugins', 'chrispallett', 'penis', 'moochergirl', 'irl', 'jpbbunny', 'murray', 'happend', 'froggys', 'annoyed', 'wildboutbirds', 'balance', 'kimberlykane', 'kimberly', 'sneffielynn', 'attempted', 'jen', 'cary', 'kansas', 'stir', 'fry', 'gd', 'cotieno', 'divasmistress', 'ssoorrryyy', 'replied', 'mariajonas', 'maria', 'jonas', 'tonigirls', 'unfortuntly', 'passd', 'swine', 'flu', 'deeply', 'saden', 'stress', 'ismaking', 'chelseylamps', 'collectormaniac', 'oliviafloats', 'tori', 'trishareal', 'tbaggerrrr', 'background', 'chest', 'pains', 'umitsjen', 'antique', 'thrift', 'slice', 'justagurl', 'lebron', 'lleian', 'ewan', 'theater', 'meagansdesigns', 'buildsblog', 'sphynx', 'skype', 'disbeatizsik', 'tonyrobbins', 'contact', 'kyle', 'submissions', 'meredithgould', 'medxcentral', 'hilarious', 'fatalistic', 'solutions', 'attached', 'tooooooo', 'sneezaholic', 'yakima', 'ditch', 'americanwomannn', 'secretly', 'johnnyboyca', 'owen', 'chp', 'myfuturelies', 'daniel', 'nintendo', 'lotchecktester', 'hoffentlich', 'wirds', 'mit', 'der', 'stelle', 'afordie', 'hellooooo', 'mega', 'jsut', 'pringles', 'chips', 'supermarket', 'msresearch', 'classic', 'bravo', 'refuses', 'cooperate', 'bamboozle', 'cookie', 'wuss', 'attend', 'lecture', 'roadworks', 'everywhere', 'mt', 'fibre', 'cables', 'joannadangelo', 'fetch', 'maccies', 'jusco', 'toner', 'hunting', 'accompanied', 'revising', 'sale', 'spare', 'evilitlsquirrel', 'wag', 'tails', 'wags', 'enthusiastic', 'kenzzz', 'christine', 'mohegan', 'bartclaeys', 'partly', 'continuation', 'setting', 'mess', 'lauralawrah', 'forumtheatrenj', 'winds', 'bother', 'grandsons', 'grampa', 'snoring', 'wise', 'interiorlulu', 'hitr', 'smoke', 'deserves', 'stfudesiree', 'bmw', 'fil', 'funnykeithlyle', 'drama', 'hidetoshi', 'nakata', 'shown', 'mixiecho', 'aaarh', 'throbby', 'anxious', 'puredanger', 'javaone', 'notice', 'eerie', 'similarities', 'elchapman', 'neptune', 'sometime', '_aims', 'allenbrand', 'preciouslili', 'shakeology', 'recipe', 'carmenmg', 'visitin', 'hare', 'towin', 'wrecked', 'lane', 'contests', 'carmijoice', 'mre', 'ai', 'aahha', 'trinoma', 'midesfilenegro', 'caymans', 'jamaica', 'ocean', 'dangit', 'downsized', 'woefully', 'unprepared', 'dbuc', 'quelle', 'lessyangel', 'haggles', 'award', 'seo', 'ilove', 'boyy', 'nicoleheape', 'chemo', 'fighting', 'mtn', 'dew', 'catacombs', 'beyond', 'craving', 'string', 'comp', 'entry', 'danity', 'kane', 'lirisc', 'lovin', 'owe', 'dinafragola', 'ceiling', 'killer', 'hangover', 'advil', 'witness', 'pathetic', 'zomg', 'tetris', 'chess', 'drewseeley', 'retweeted', 'pitchforkmedia', 'eyewonderlabs', 'imeem', 'jim', 'george', 'harrison', 'quarter', 'clock', 'ins', 'clocked', 'jason_otoole', 'tweeteradder', 'yikes', 'accidents', 'recent', 'concorde', 'montreal', 'itschristablack', 'aaaa', 'pagee', 'exist', 'dobleveve', 'chrispeezy', 'shaunmichaelb', 'often', 'sommersprossen', 'japsss', 'timy', 'lisacall', 'posts', 'roxy_yeah', 'mcmahon', 'passed', 'chpaquette', 'shhh', 'stalkers', 'bun', 'hue', 'vietnamese', 'ncam', 'ab', 'gallo', 'search', 'tl_', 'bouchie', 'xlive', 'restoduh', 'arnt', 'jordanriane', 'postponed', 'sweets', 'inlaws', 'omgggg', 'rsborges', 'landed', 'germany', 'ughh', 'quilik', 'lauritzen', 'saber', 'ksiddall', 'shake', 'spambots', 'emailed', 'dasqueakyone', 'bartlett', 'dl', 'originally', 'runnnnnnnnnning', 'daddy', 'justmet', 'kutefans', 'db', 'ik', 'stevekennedyuk', 'netapp', 'themeganjo', 'robin', 'brenna', 'paula', 'amanda', 'somebody', 'tends', 'narrated', 'meant', 'ran', 'arg', 'proofer', 'sucka', 'astrosim', 'chinese', 'rome', 'awaresg', 'democracy', 'lilhappyheathen', 'chillin', 'wash', 'degree', 'taylormartinez', 'phoenix', 'lbo', 'checked', 'icontweaker', 'hole', 'fenchurch', 'davidmcsherry', 'taste', 'prepare', 'manon', 'shine', 'victim', 'spymaster', 'jwhof', 'appreciated', 'quality', 'commenters', 'flossy', 'brittkitch', 'archuleta', 'wall', 'yelyahwilliams', 'edmonton', 'ez', 'oven', 'marijuana', 'slowsky', 'ms_sugakane', 'formula', 'ticker', 'sucky', 'tvroom', 'marley', 'colors', 'summers', 'kodachrome', 'glbriggs', 'focus', 'lab', 'cecs', 'txted', 'jay', 'performing', 'summerjam', 'hahahha', 'martinluff', 'variable', 'grids', 'starbucks', 'emails', 'rcn', 'pits', 'bryanbrinkman', 'jelous', 'decemberists', 'wowwwww', 'tmrw', 'highschoollll', 'superbb', 'climateblogger', 'green', 'twitters', 'killed', 'bonsai', 'whitestonemp', 'tightly', 'aligned', 'thisisdavina', 'bullyinguk', 'anti', 'bullying', 'charity', 'hike', 'motorcycle', 'mountains', 'clairesalcedo', 'pixar', 'neyrashazeyra', 'susah', 'nak', 'chewing', 'vivalaangie', 'septum', 'pierced', 'line', 'skyline', 'heathermriley', 'adding', 'boysummer', 'musicxisxlifex', 'rcompo', 'rachel', 'outage', 'neccessary', 'wekend', 'folk', 'juan', 'dyv', 'becareful', 'bdaii', 'sink', 'polymerclaygal', 'fab', 'mechanic', 'sunriseon', 'honesty', 'larryczerwonka', 'amalinaaa', 'mobile', 'stare', 'optiv_flatworms', 'alyssa_milano', 'certifies', 'thee', 'infinite', 'irrelevant', 'accept', 'substitutes', 'prescott', 'facebooks', 'obama', 'labour', 'awaiting', 'lfctv', 'liverpool', 'newcastle', 'nickybyrneoffic', 'whens', 'paomiami', 'picnic', 'lexandthecity', 'monsoon', 'travelled', 'companion', 'silent', 'screeeeeaming', 'vyb', 'usha', 'uthup', 'interacting', 'children', 'andie', 'havin', 'comming', 'sashactlc', 'repost', 'xemmma', 'stuk', 'debz', 'shared', 'poetry', 'dispositon', 'skool', 'walks', 'giant', 'holding', 'disneyrunner', 'sir', 'dg', 'doart', 'cami', 'ronnicaih', 'ie', 'blister', 'heel', 'callused', 'casey', 'korea', 'pigs', 'matthewadamdiaz', 'alexgrech', 'mill', 'hence', 'krjm', 'krj', 'goddamn', 'thithter', 'echogideon', 'thrilled', 'immediately', 'fecklessan', 'raymond', 'favs', 'dinoche', 'clichy', 'iamjoebeastmode', 'holland', 'ablenetdesign', 'n_j', 'wk', 'runningmaggie', 'rental', 'mystiquejewels', 'natural', 'blond', 'aefpix', 'toiviainen', 'mikkola', 'parliament', 'candidates', 'latter', 'leftists', 'gdgofficial', 'sweden', 'dancnbutterfly', 'naps', 'scitech', 'isuara', 'awakeningsssssssss', 'tournament', 'lyrical_lawyer', 'tribute', 'looove', 'potato_chip', 'scarlett', 'hollywood_trey', 'mishicot', 'callahan', 'lus', 'plays', 'cheerleader', 'justjenni', 'banana', 'hoped', 'wks', 'planting', 'insanely', 'backed', 'helping', 'aaaah', 'los', 'angeles', 'hosting', 'nba', 'gooooo', 'sex', 'sky', 'studious', 'dcspinks', 'msamy', 'explanation', 'bath', 'neice', 'precious', 'argueing', 'hurricanehuron', 'aje_in_regina', 'son', 'kieranwelch', 'dies', 'blegh', 'solangeknowles', 'auckland', 'zealand', 'newest', 'ladyleet', 'jakobo', 'staples', 'gash', 'proved', 'dangerous', 'b_nasty', 'fletch', 'drinks', 'roygrubb', 'lawsuits', 'buzan', 'map', 'herschel', 'bestfriend', 'melisa', 'seniors', 'mariahcarey', 'mariah', 'histapleface', 'pooor', 'allys', 'grounded', 'dasaribalaji', 'pinklightning_', 'slightly', 'disappointed', 'picking', 'blocks', 'asylum', 'arrgh', 'slide', 'length', 'lift', 'ground', 'crazier', 'wift', 'astonwest', 'clhunter', 'meadscorner', 'rsocket', 'opne', 'hating', 'okcomputer', 'fault', 'wonderful', 'mymymetrocard__', 'nuts', 'happened', 'woooohoo', 'vimasophia', 'wasteland', 'jaz', 'carolyngalvante', 'tweeter_meter', 'yonaa', 'soprano', 'alto', 'heat', 'ugghhh', 'hartluck', 'motor', 'kgtv', 'theallseeingi', 'amandasaysthat', 'dimples', 'novel', 'preface', 'heckayeah', 'unmarketing', 'horse', 'dreamagic', 'fk', 'yoghurt', 'trent_reznor', 'omfg', 'atm', 'soooooo', 'faerielissa', 'beaach', 'lazy', 'dayy', 'puzzle', 'ingridmusic', 'nicolejordan', 'letter', 'drshagwell', 'responsible', 'blows', 'tf', 'improving', 'stompers', 'yar', 'harambee', 'jon', 'roomie', 'hutchington', 'ï', '½hh', 'kï', '½szi', 'twitteres', 'hatalmas', 'kitlane', 'twitterfon', 'braces', 'thewarriorbunny', 'teenager', 'jenypher', 'gankaku', 'yess', 'shopings', 'dh', 'cracked', 'xthelonelygodx', 'opening', 'henceforth', 'ashleeadams', 'cuddles', 'sry', 'reciprocate', 'lacks', 'deanna', 'msstaceylee', 'involved', 'kn', 'wierd', 'snedwan', 'flog', 'shaft', 'oppotunity', 'adriolivera', 'alexis', 'lmaoo', 'thatt', 'guyyy', 'disney', 'longggggg', 'kevin', 'holdin', 'manusharow', 'gangplank', 'wednesdays', 'hq', 'thursdays', 'nextcoffee', 'dreamt', '_alittlebird_', 'dannistack', 'pastee', 'singing', 'summergirl', 'wearestereos', 'missmischief', 'costume', 'pointy', 'daylight', 'savings', 'dark', 'alliew', 'blogs', 'items', 'cost', 'nicole', 'schedule', 'cheerios', 'waveboards', 'juscrazy', 'lovato', 'potato', 'tomato', 'chelisamontique', 'cristalthegreat', 'penny', 'candy', 'raihanamcfly', 'hehehe', 'threw', 'ls', 'sherry', 'garter', 'living', 'pudge', 'hawaii', 'thebadhousewife', 'xx_nana_xx', 'paperday', 'stressing', 'angie', 'total', 'jonmoss', 'graze', 'lalorek', 'amount', 'data', 'prolly', 'robert', 'darling', 'counselor', 'melhags', 'fits', 'kookytook', 'cheeks', 'hawt', 'techsupportrich', 'piratedave', 'bachelor', 'bullshit', 'reemerband', 'allergies', 'denver', 'arthur', 'envy', 'seattle', 'revisited', 'rainbowyzzy', 'highlights', 'fenway', 'productive', 'workday', 'evolved', 'logged', 'evolve', 'sopas', 'wowers', 'knowww', 'dinners', 'dcdebbie', 'gotten', 'calamine', 'sjhannam', 'mostly', 'chilling', 'ye', 'tsukihysteria', 'integrated', 'llvm', 'clang', 'gcc', 'tile', 'ambitions', 'tomfelton', 'tooom', 'emilybalivet', 'whoot', 'buckhollywood', 'daisy_thomas', 'spoiled', 'curiosity', 'rove', 'aah', 'apart', 'einstein', 'twitterbugs', 'thankyou', 'laughed', 'yeaaaaah', 'flame', 'thrower', 'brown', 'lauradavis', 'ominousl', 'thinks', 'trayg', 'framing', 'hanley', 'birmingham', 'ldpodcast', 'generosity', 'spirit', 'reemer', 'aswell', 'sickness', 'jromero', 'nike', 'kicks', 'kylmock', 'score', 'zokathepuppy', 'movement', 'flexibility', 'colour', 'weezereire', 'punk', 'agentshawnee', 'awk', 'elvis', 'sssooo', 'smiling', 'photovince', 'compact', 'results', 'exhibition', 'culture', 'triciabuck', 'airports', 'jasperhalergp', 'rose', 'embarassed', 'bella', 'limp', 'bizkit', 'feat', 'gether', 'uyennguyen_', 'enoght', 'dalechumbley', 'blackmail', 'notpiechamp', '_yvette_', 'facinelli', 'domainingcom', 'investment', 'makuluwo', 'myrtty', 'thesixtyone', 'ubuntu', 'massive', 'interrupted', 'flowing', 'desk', 'foot', 'chairiste', 'brandystrippers', 'byebye', 'lacuna', 'philadelphia', 'botanical', 'gardens', 'glimpse', 'liberty', 'bell', 'belgium', 'afghanistan', 'parking', 'cache', 'letterbox', 'tingting', 'lock', 'bodua', 'lightninghoof', 'horde', 'rivals', 'owl', 'noooo', 'aion', 'betatesting', 'mornig', 'knotts', 'cracking', 'swallowed', 'gun', 'chocking', 'ham', 'bridget', 'jeremy', 'kenleylott', 'pounding', 'danialberti', 'mcgrath', 'bradfriedman', 'crossed', 'commencement', 'speech', 'dailystab', 'worthy', 'istanbul', 'wild', 'snuggles', 'spoons', 'forks', 'sporks', 'ouch', 'swiftkaratechop', 'swifty', 'untill', 'beggining', 'holidays', 'celebrities', 'jjchicken', 'readings', 'furoyama', 'energized', 'daplumba', 'rules', 'cavalier', 'king', 'charles', 'spaniel', 'classified', 'alphacat', 'jamielovez', 'whatup', 'furrrr', 'reals', 'herneythegreat', 'majordodson', 'cryzed', 'yayayayyy', 'nature', 'consciousness', 'bravery', 'morehappypeeps', 'supervisord', 'process', 'watcher', 'erlang', 'hbdancingirl', 'hangout', 'pour', 'rbccsttr', 'dp', 'edited', 'ericaj', 'chunk', 'grandfather', 'crystalbutterfl', 'gayle', 'forgive', 'swim', 'strenght', 'amygeneadams', 'bnp', 'seat', 'salaries', 'platform', 'cheery', 'added', 'documenting', 'xxmixedmodelxx', 'lmfao', 'brutal', 'showcase', 'become', 'gallon', 'lucyjspence', 'emmielovegood', 'cockney', 'banging', 'meena', 'mulch', 'laterr', 'fillings', 'replaced', 'deep', 'jenwojcik', 'imply', 'merrral', 'iranelection', 'myweddingeditor', 'aliceletts', 'scattered', 'thunderstorms', 'jimyvr', 'winks', 'bought', 'trimatree', 'geezer', 'gentle', 'twilighter', 'rally', 'mamma', 'mia', 'fusing', 'passes', 'february', 'compass', 'tethering', 'alishaloves', 'yehh', 'listened', 'riff', 'dosent', 'imcomplaining', 'amyhaigh', 'listing', 'applecored', 'lovingvida', 'wii', 'macgyver', 'clothshanger', 'illegally', 'downloads', 'limewire', 'bof', 'rulez', 'ihavecake', 'insomniated', 'imaginary', 'philosophical', 'therealhavana', 'mamie', 'hums', 'alumni', 'masters', 'paha', 'balcony', 'theese', 'bee', 'mod', 'points', 'slashdot', 'geekpride', 'moremoremore', 'omgah', 'harder', 'rockchic', 'eagles', 'upp', 'ist', 'hwrk', 'tireddddddd', 'zzzzzzzzz', 'losing', 'reunite', 'ruby_gem', 'dermatologist', 'slaughter', 'butter', 'knife', 'inventrix', 'retyped', 'attention', 'snfrancis', 'bcwarr', 'birds', 'freak', 'hitchcock', 'monkeys', 'fascinating', 'rooting', 'pandjcrafts', 'jewelry', 'gulf', 'mexico', 'ben_hall', 'alishashrestha', 'awwee', 'wdw', 'annual', 'lindsays', 'kyras', 'swift', 'cariann', 'bummer', 'scrubbed', 'katmcgraw', 'fealings', 'monfils', 'roddick', 'mccainblogette', 'quit', 'leaning', 'admire', 'bhollins', 'leavin', 'chilis', 'cutestkidever', 'entertain', 'tessa', 'salvation', 'cardinals', 'giants', 'pdurham', 'jeepifer', 'sori', 'geekigirl', 'duet', 'archie', 'nathanfillion', 'seasons', 'standard', 'cramps', 'whoo', 'danielhunt', 'evening', 'doctor', 'bittlerelly', 'thedating', 'sticking', 'unc', 'goodafternoon', 'yey', 'launches', 'grrrr', 'violent', 'feelings', 'towards', 'shut', 'rick', 'rolled', 'royal', 'farms', 'stesimpson', 'held', 'captive', 'shepherd', 'bush', 'bazaar', 'billchase', 'proper', 'vanting', 'burgers', 'pizzas', 'junk', 'nenaduck', 'tjwislon', 'sd', 'gloomy', 'misting', 'seth', 'deathproof', 'hah', 'doggy', 'admitted', 'badbad', 'forced', 'trueax', 'wembly', 'zord', 'lovee', 'partt', 'armaghedon', 'camerarec', 'heartburn', 'predictable', 'schmetterling', 'educator', 'strike', 'darmstadt', 'scott', 'mills', 'mychemicalmuse', 'sweetness', 'bonnieroseleigh', 'wal', 'mart', 'chennai', 'hayden', 'punjab', 'hyd', 'ipl', 'superbowl', 'cricket', 'amybamf', 'bowling', 'pad', 'flashbacks', 'adverts', 'itv', 'motivcoach', 'product', 'pipeline', 'bnewport', 'dexter', 'imho', 'arrive', 'demi', 'reality', 'hijacked', 'seans', 'twitted', 'shhhhh', 'lux', 'suggestions', 'jspotnigarma', 'kasi', 'wala', 'akong', 'kasama', 'humirit', 'boooooooo', 'classmates', 'lovekelsey', 'wide', 'hahha', 'locked', 'akon', 'elias', 'senior', 'vince', 'jail', 'veins', 'michelle', 'shinanigans', 'neighbors', 'partying', 'vibrations', 'faithfulchosen', 'waits', 'hemantmehta', 'skeptic', 'massage', 'catherinexo', 'britney', 'spears', 'introduced', 'kneegrowsodmg', 'sack', 'dennhamilton', 'sleeeeeeeeepy', 'laurelexmachina', 'jab', 'eyes', 'knitting', 'needles', 'ditching', 'indiecindy', 'dodgers', 'delightful', 'mz_tworkalot', 'lap', 'dry', 'rugby', 'azmomofmanyhats', 'kept', 'racing', 'juiceprincesss', 'ericsson', 'a_willow', 'bape', 'steal', 'ben', 'harper', 'boxing', 'lucy', 'oldies', 'luuuucy', 'wah', 'naaaoo', 'marielinton', 'dreary', 'happier', 'fam', 'frickin', 'cinemanewsblog', 'accidentally', 'deleted', 'database', 'rosemarycnn', 'casparterhorst', 'shenzhen', 'guangzhou', 'youngyonny', 'heartbreakv', 'cheyjane', 'tuna', 'salad', 'nicolemarie', 'grease', 'pocketpenny', 'twistagmg', 'dose', 'youngserv', 'hellaaa', 'coventry', 'tasyasampurno', 'yupp', 'studs', 'kuta', 'boarding', 'apprentice', 'kate', 'naw', 'top', 'summerholidays', 'bord', 'cellphone', 'glorious', 'dissertation', 'finalising', 'essay', 'majorily', 'christooopher', 'brandywandlover', 'celeb', 'jan', 'melts', 'mouth', 'longboarding', 'oldbluejeans', 'jessikaw', 'tiny', 'barnes', 'noble', 'borders', 'recall', 'drrenee', 'nikkiwoods', 'twaitting', 'ebayinkblog', 'difficult', 'solves', 'lurkers', 'cyprus', 'youd', 'opf', 'kels', 'clubbing', 'vainnovations', 'pharmacy', 'myt', 'bouncy', 'probz', 'chased', 'zixiciv', 'lucyc_', 'coursework', 'sample', 'alli', 'lbs', 'sadder', 'buffets', 'underrated', 'inventions', 'civilized', 'minature', 'golf', 'damohopo', 'cross', 'sniffle', 'boogies', 'popcap', 'peggle', 'crack', 'heroin', 'ick', 'scratchy', 'smooth', 'sonic', 'answering', 'musicaljo', 'grateful', 'mercies', 'microsoft', 'tech', 'convention', 'ctr', 'teched', 'team', 'rolls', 'beccyscott', 'futuredirected', 'freshdotdaily', 'haiyo', 'confusing', 'noob', 'susanhutchinson', 'mn', 'voiceofreason', 'playmate', 'nicoloolie', 'canteen', 'nga', 'smithycurt', 'nobbbbbyyy', 'nobby', 'nob', 'rotty', 'suddenly', 'depressed', 'flushed', 'gots', 'nth', 'hated', 'libertygirl', 'leafsfaninbigd', 'slicktim', 'backscrub', 'mysongotheday', 'translator', 'babelfish', 'esperanto', 'deelon', 'miiiineeeeeee', 'twicrackaddict', 'addeccentric', 'jonpaulkaiser', 'electric_angel', 'mouse_dept', 'monstafaktory', 'bartsbooks', 'alecnguyen', 'wishlist', 'hurry', 'buona', 'notte', 'tweethearts', 'michï', '½leï', '½s', 'birthdaypresent', 'pooch', 'kenapa', 'sll', 'rame', 'bayar', 'aja', 'ngantri', 'photogenic', 'iï', 'mourning', 'fcuk', 'jigly_umbay', 'crib', 'fridayyy', 'waaahhh', 'graduated', 'mornin', 'father', 'whereing', 'helmet', 'bbbuuttt', 'barn', 'horsey', 'colombus', 'kassandra', 'twitt', 'stephanie', 'veryy', 'bia_loves_nkotb', 'juandeleon', 'brownies', 'bac', 'waitin', 'coolly', 'eatin', 'tweetin', 'domparker', 'sports', 'unfitttt', 'mattpro', 'photo_john', 'grandpa', 'hunt', 'tix', 'charleston', 'adores', 'ali', 'tapas', 'fourthnight', 'trade', 'places', 'fortunes', 'cans', 'neighbour', 'offensively', 'techno', 'simply', 'asingularfate', 'veggies', 'tempeh', 'tofu', 'seitan', 'cubs', 'preciate', 'iamembrace', 'whoizat', 'radiohead', 'squares', 'disgusting', 'vacate', 'flat', 'autos', 'personal', 'vehicle', 'acidity', 'wine', 'mmhmm', 'jubilant', 'hallelujah', 'spesh', 'laters', 'sleeves', 'organizing', 'collection', 'official', 'load', 'swagga', 'exahausted', 'weezyy', 'babyyy', 'travell', 'hide', 'emotions', 'applying', 'vet', 'gh', 'complaint', 'teachercomplaints', 'savvypriya', 'winter', 'jacket', 'satans', 'yyyyaaayyy', 'skins', 'yeeeeey', 'stations', 'funn', 'comedians', 'carrie', 'underwood', 'jersey', 'ward', 'photography', 'portfolio', 'rachelsuzanne', 'fotopic', 'headin', 'sleeepy', 'legs', 'killin', 'madddd', 'ayer', 'yasminegalenorn', 'habits', 'maroon', 'lisnin', 'mardi', 'gras', 'nicoleos', 'anime', 'heather', 'kujunat', 'jesmayhemwa', 'prelude', 'bradie', 'cheth', 'urs', 'mega_dude', 'downloading', 'disasterpastor', 'kicked', 'grace', 'thinki', 'shopadidasuk', 'gateway', 'proxy', 'receive', 'timely', 'upstream', 'checkout', 'instant_netflix', 'peasandbananas', 'madness', 'soaked', 'muddy', 'warning', 'nasty', 'lurking', 'spend', 'overcome', 'negative', 'reaction', 'netherlands', 'irishprincess', 'katie', 'travels', 'minnesota', 'rana__xx', 'bonnie', 'rolly', 'polly', 'katielouisepack', 'buddy', 'ash', 'daaaark', 'aahhh', 'alien', 'mountain', 'masterycoach', 'julia', 'haircut', 'spree', 'europe', 'teh', 'keith', 'urban', 'sugarland', 'tuition', 'gamer', 'simchabe', 'wondered', 'mmmmmmmmmmmmmmmm', 'fcuked', 'kathryns', 'sounded', 'vanillafire', 'size', 'blessings', 'tech_n', 'aint', 'sushi', 'theaters', 'effects', 'type', 'bonesfan', 'recurring', 'character', 'wyatt', 'galley', 'lion', 'melissahoyer', 'entertaining', 'acabo', 'subir', 'imagen', 'darren_cox', 'yum', 'notomodungwa', 'hiya', 'noto', 'hzilionis', 'obsessing', 'kick', 'curb', 'meee', 'milly', 'ndn_lswall', 'photojournalist', 'naples', 'lexey', 'starburst', 'gummies', 'baddd', 'mustangmelissa', 'respond', 'avlieshout', 'credit', 'tandyq', 'await', 'tomorrows', 'riddles', 'rustyrockets', 'russell', 'mai', 'communication', 'system', 'cï', 'nï', '½o', 'gi', 'tr', '½n', 'anten', 'quï', 'yummymummyclub', 'dun', 'dawizonline', 'religious', 'jokes', 'billpalmer', 'luvly', 'cynth', 'internetless', 'rob', 'fierce', 'remind', 'tomlatham', 'stopping', 'tildycat', 'sue', 'youtubes', 'iloveeeemusic', 'yaself', 'centre', 'swollen', 'sausage', 'symonejenkins', 'davidismyangel', 'worth', 'angelic', 'ethings', 'topshop', 'missripples', 'informed', 'starts', 'vie', 'owls', 'dreaming', 'hootie', 'hoooooooooo', 'simplify', 'brianhahn', 'stops', 'sis', 'ciara', 'jesse', 'mccartney', 'kelly', 'clarkson', 'peas', 'zootopia', 'mrtraviswall', 'digitalsignals', 'suspect', 'emccray', 'shakacon', 'lacking', 'lasts', 'incredibly', 'corrinrenee', 'awwhh', 'hateee', 'tidying', 'rooom', 'disappointing', 'bx', 'freshh', 'allybingham', 'wisdom', 'diiamondlicious', 'hennessy', 'chikk', 'kaykay', 'cjs_', 'justins', 'helpless', 'agnes', 'ycd', 'wooo', 'chelley', 'gallery', 'lasted', 'cobbler', 'episodes', 'mtb', 'montana', 'famous', 'bost', 'utter', 'nicksstudmuffin', 'nosey', 'podcast', 'yell', 'tweety', 'schoold', 'thow', 'firefox', 'actual', 'changes', 'tab', 'icon', 'explorer', 'dnw', 'fried', 'updated', 'hariprasadm', 'machi', 'fairlands', 'misleading', 'kwillsie', 'aaall', 'surf', 'telling', 'ily', 'tooooo', 'mtnrunnerk', 'complaining', 'kae', 'wooopjess', 'goood', 'mum', 'harsha', 'msteenamarie', 'sarahsmiles', 'monthsout', 'science', 'geography', 'skaraproudmoore', 'searches', 'properly', 'lindsey_martin', 'spanish', 'latin', 'nowadays', 'chrome', 'missconfusion', 'click', 'allthesausages', 'alerts', 'clarke', 'anthonyvb', 'kissmyaster', 'iamnotsteve', 'fuss', 'lsoe', 'vwlphb', 'damned', 'heeeeee', 'trey', 'songz', 'premium', 'yuuup', 'delicious', 'bannana', 'ping', 'pong', 'tennis', 'borrowers', 'boarded', 'cab', 'macs', 'blowing', 'keyboard', 'borisdog', 'xxxxxxxxxxxxxxxxxxxxxx', 'ebook', 'giveaway', 'correct', 'clues', 'nowhere', 'lulz', 'muser', 'midnight', 'untie', 'mcr_rocks_alot', 'pillow', 'pamela', 'lingerie', 'spurs', 'malik', 'bowen', 'lynnterry', 'nykki', 'booking', 'virgin', 'glassidentities', 'momdot', 'chutzpah', 'lovelaura', 'cancel', 'yeahhh', 'ashley', 'watsup', 'reminisce', 'jobless', 'earthquake', 'bass', 'niawck', 'jangan', 'dibahas', 'nanti', 'ak', 'ngerasa', 'miris', 'indur', 'moving', 'kiddie_kouture', 'teared', 'movin', 'changd', 'misskryssie', 'girlie', 'eps', 'jack', 'island', 'moooore', 'kooliedoolie', 'evil', 'lilpimps_sancha', 'ughhh', 'cleaning', 'neverending', 'iaintait', 'concept', 'shoresitch', 'smartphones', 'caninecareer', 'scooby', 'doo', 'blanket', 'cancelwinter', 'nate', 'blooper', 'remembersg', 'remembering', 'singapore', 'community', 'livin', 'bon', 'jovi', 'legss', 'gymm', 'dougie', 'repllyyyy', 'gorjusses', 'cleaver', 'caffine', 'stacey_mcr', 'hotmail', 'berlin', 'arrival', 'pickles', 'marley_pants', 'tweakculture', 'cus', 'deym', 'kobus_debeer', 'snakes', 'bunnies', 'aaaand', 'charged', 'pm', 'lofty', 'charissafry', 'knowing', 'champagne', 'niens', 'aaah', 'biggest', 'meeet', 'iâ', 'nerver', 'peelingpaper', 'snake', '_jenniifer', 'lalalopez', 'karma', 'lalalov', 'relax', 'solution', 'tee_tha', 'iya', 'gue', 'pengen', 'begitu', 'royal_', 'micchellee_', 'zozeebo', 'guce', 'hhahaha', 'reminder', 'wdwdisneyland', 'aborted', 'supernova_star', 'weeds', 'manuscripts', 'publishes', 'jclwilson', 'crusades', 'archaeology', 'somthing', 'marabg', 'hook', 'shoulder', 'grin', 'aliholden', 'angelaywilliams', 'amounted', 'activites', 'district', 'rained', 'rucksack', 'remains', 'untouched', 'sonzilla', 'ticketmaster', 'staffordshire', 'bound', 'oatcakes', 'stonermc', 'nipper', 'chickenpox', '__', 'murphy', 'whooped', 'ahhhh', 'momma', 'shellyvalentine', 'mandie', 'rumplestiltskin', 'charging', 'batteries', 'psychological', 'hoovering', 'shellsta', 'tmr', 'sulking', 'cjronson', 'jag', 'shavuot', 'sameaj', 'shavout', 'mike_lowry', 'booty', 'lexxa_bee', 'danggg', 'memoir', 'davehillman', 'wacky', 'tres', 'expire', 'fkchang', 'martinemde', 'dizzying', 'insert', 'ram', 'leann_purdy', 'supersport', 'bah', 'og', 'hulu', 'increase', 'pulseapp', 'offer', 'discounts', 'nonprofit', 'organizations', 'benefit', 'greatly', 'pulse', 'formatted', 'friggin', 'memory', 'nooooooooooooo', 'isplayer', 'luongo', 'maititaandco', 'apps', 'forum', 'thecloseup', 'huaaa', 'grumbelin', 'thebeerwench', 'just_nelda', 'mdbarber', 'peeboo', 'samach', 'stawbees', 'affected', 'losifbaby', 'locyan', 'record', 'pleaseeeee', 'becdizzle', 'filled', 'wkends', 'canceled', 'thomasgudgeon', 'generation', 'reneegannon', 'fofdebs', 'suggest', 'sophiedee', 'broccoli', 'truly', 'morganxx', 'gutted', 'paste', 'republish', 'weallfalldown', 'ttttt', 'duhhh', 'saddd', 'mclovin', 'dang', 'nakialjackson', 'baaaack', 'wassup', 'twits', 'kitten', 'getn', 'wrk', 'nephew', 'turns', 'wrapping', 'wifi', 'liveblogging', 'aquatic', 'aaaaaaaaaahhhhhhhh', 'brrrrrr', 'mandyque', 'mands', 'colours', 'espen_antonsen', 'gitorious', 'github', 'vegasshowdown', 'jessica', 'alba', 'honey', 'goooo', 'nighttt', 'memba', 'tooth', 'brush', 'tsukimi', 'candicekei', 'kendra', 'omgosh', 'alex', 'eli', 'build', 'station', 'cis', 'amyattiffanys', 'kentucky', 'dayyyy', 'housewives', 'alert', 'airhostess', 'aunties', 'nanny', 'sq', 'mmmmmmm', 'espresso', 'helps', 'efficiently', 'amazed', 'supremacy', 'aqualung', 'monterey', 'flyer', 'youll', 'diff', 'zones', 'sipping', 'raspberry', 'lemonade', 'soak', 'jacuzzi', 'tub', 'stephenmulhern', 'relli', 'lime', 'rioja', 'sstill', 'spam', 'writerchaz', 'affordable', 'police', 'crime', 'sup', 'billy', 'bowlegs', 'west', 'lee', 'dhughesy', 'happily', 'wakes', 'jennifer', 'panda', 'madigan', 'fl', 'noochi', 'mistygirlph', 'miguesme', 'briangreene', 'momix', 'sn', 'wro', 'antonio', 'misskellyo', 'asslleyy', 'refreshes', 'elteazee', 'kompton', 'bowl', 'motivate', 'vindee', 'kevin_hoare', 'thick', 'cancers', 'suncream', 'definitley', 'fatty', 'conner', 'bench', 'cheers', 'shitty', 'smartie', 'morpheus', 'partner', 'varietal', 'knocker', 'elastic', 'pinging', 'hedgewytch', 'innocent', 'smoothies', 'willie_day', 'massagemichael', 'uverse', 'transferred', 'beverly', 'health', 'clinic', 'ups', 'cosmopaulitan', 'importantly', 'waiter', 'gloxpolguard', 'angry', 'portrayal', 'asian', 'totaldelights', 'difference', 'tranquilmammoth', 'warped', 'wisconsin', 'illinois', 'edinburgh', 'thousands', 'showtime', 'summertime', 'members', 'eatn', 'crabs', 'porch', 'whit', 'storys', 'drnkn', 'reasonably', 'wells', 'ere', 'meeee', 'modernartrocks', 'gott', 'smooch', 'davegraham', 'legacy', 'cluster', 'console', 'groups', 'janebutton', 'wheeeew', 'systems', 'backpackingdad', 'chance', 'upgrading', 'factory', 'owners', 'respectmileyc', 'cyrus', 'attending', 'praise', 'recording', 'kingsgate', 'thewebguyuk', 'iainliddle', 'balancing', 'chair', 'chin', 'sixth', 'common', 'sneers', 'balls', 'lil_crazy_jamie', 'jasonjmikemgmt', 'permit', 'roads', 'abandoned', 'plasmaegg', 'therealjmac', 'shortly', 'patient', 'bem', 'vinda', '_alcoholic', 'pthought', 'persuasive', 'xoxmichelle', 'discoveries', 'detective', 'adventure', 'clarissasays', 'icarly', 'sight', 'chapter', 'development', 'matthewhass', 'devilish', 'seahawks', 'paula_mcfly', 'coze', 'teraz', 'som', 'akurat', 'odisla', 'od', 'telkyy', 'jaky', 'cavaliers', 'zoziekins', 'autumn', 'crusted', 'grilled', 'garlic', 'parmesan', 'potatoes', 'yummaaay', 'dig', 'larger', 'itouch', 'wikipedia', 'x_karen_x', 'migraine', 'goodbye', 'dudeman', 'flyingdesigner', 'winters', 'bruised', 'kidney', 'snowmobile', 'jussj', 'ss', 'simplest', 'jessidavis_', 'stick', 'frustrating', 'beachnriver', 'drove', 'march', 'april', 'acting', 'weds', 'jazz', 'hip', 'thisisrotv', 'comee', 'peru', 'piercing', 'third', 'zombie', 'nicole_odell', 'followed', 'mouse', 'hallucination', 'fuzzy', 'whiskery', 'rid', 'bpm', 'breakbeat', 'tune', 'sabrinaa_', 'florida', 'mem', 'disneyworld', 'skyping', 'kristen', 'pertyyy', 'manders', 'ttyl', 'yas', 'leeds', 'voting', 'archangelval', 'altnoy', 'crush', 'fm', 'geyt', 'kupono', 'phillip', 'partners', 'just_mo', 'queenofzan', 'startrek', 'ensredshirt', 'jumbled', 'moooorning', 'catsy', 'seconds', 'sam', 'mud', 'campouts', 'missashley', 'gross', 'trackball', 'jolicloud', 'invite', 'signed', 'instantly', 'spread', 'uemo', 'halfwelshdragon', 'chorale', 'designyoutrust', 'trustable', 'suggestion', 'unfollow', 'annnnnnnnnnd', 'drakoboy', 'radiokilla', 'period', 'blank', 'kangaroogav', 'preach', 'gammon', 'tennistim', 'surprised', 'blake', 'queens', 'roguestampede', 'southeast', 'asia', 'flown', 'heisthelamb', 'haiiii', 'didd', 'destini', 'downhome', 'jd', 'mix', 'juice', 'upâ', 'soda', 'grenadine', 'dese', 'katebuckjr', 'mah', 'gurls', 'poem', 'drafted', 'probs', 'stressed', 'rihanna', 'showerrr', 'hail', 'nah', 'ruins', 'quicker', 'leaky', 'diaper', 'yuck', 'chilvia', 'paypal', 'nileyworldtv', 'dennys', 'hurl', 'drmolliemarti', 'tabitarot', 'earplugs', 'camping', 'golden', 'wb', 'supertoyz', 'cuteness', 'hipechik', 'machine', 'danm', 'nagra', 'cyounes', 'gears', 'solve', 'shaking', 'anger', 'containing', 'adress', 'gageneral', 'jessdl', 'jason', 'amandaclark_', 'perform', 'hella', 'creamcheese', 'bacon', 'stuffed', 'carl', 'nevertoosure', 'jayleno', 'nbc', 'thetonightshow', 'parascience', 'spectacular', 'heyyy', 'saterday', 'realy', 'shes', 'jenifer', 'fucked', 'jcreekmore', 'nickman', 'noonw', 'beers', 'programmers', 'blaming', 'helpdesk', 'requesting', 'ho', 'lotto', 'awesoooome', 'amaaaaaaaaazing', 'alethe', 'wealthy', 'brats', 'expat', 'drivers', 'matting', 'print', 'networking', 'escapism', 'signing', 'stealing', 'addiction', 'cari_tx', 'contemplating', 'pilates', 'center', 'skinner', 'ads', 'yoga', 'bostonbookgirl', 'dutch', 'runners', 'weak', 'sarahmonline', 'pinkston', 'rope', 'tie', 'agh', 'pnkawonk', 'harassing', 'herr', 'blackmarket', 'rachmoon', 'tafkaj', 'stephw', 'adamasity_bebe', 'malinberdette', 'chatting', 'stockholm', 'yeos', 'event', 'brianconn', 'loooove', 'hoppin', 'visiting', 'creepinnn', 'friendlys', 'emily', 'lindseybeyer', 'sandlot', 'epic', 'remegel_man', 'jarret', 'expected', 'doa', 'complain', 'loudly', 'maggiechicken', 'mma', 'ridiculous', 'pub', 'northcote', 'sissy', 'mary', 'horribly', 'takeaway', 'ordered', 'squits', 'pukes', 'tomorow', 'cousins', 'inch', 'queen', 'elizabeth', 'xhellostarshine', 'worked', 'develop', 'facejolt', 'melidm', 'ra', 'success', 'dollars', 'resist', 'urge', 'omni', 'gorging', 'spicy', 'italian', 'monkey', 'zumo', 'tooken', 'recovered']\n"
     ]
    }
   ],
   "source": [
    "#top 5K words\n",
    "top_5k = [i[0] for i in fdist.most_common(5000)]\n",
    "print(top_5k)"
   ]
  },
  {
   "cell_type": "markdown",
   "metadata": {},
   "source": [
    "### Building Features\n",
    "\n",
    "Now let's build the features. Using the top 5,000 words, create a 2-dimensional matrix to record whether each of those words is contained in each document (tweet). Then you also have an output column to indicate whether the sentiment in each tweet is positive. For example, assuming your bag of words has 5 items (`['one', 'two', 'three', 'four', 'five']`) out of 4 documents (`['A', 'B', 'C', 'D']`), your feature set is essentially:\n",
    "\n",
    "| Doc | one | two | three | four | five | is_positive |\n",
    "|---|---|---|---|---|---|---|\n",
    "| A | True | False | False | True | False | True |\n",
    "| B | False | False | False | True | True | False |\n",
    "| C | False | True | False | False | False | True |\n",
    "| D | True | False | False | False | True | False|\n",
    "\n",
    "However, because the `nltk.NaiveBayesClassifier.train` class we will use in the next step does not work with Pandas dataframe, the structure of your feature set should be converted to the Python list looking like below:\n",
    "\n",
    "```python\n",
    "[\n",
    "\t({\n",
    "\t\t'one': True,\n",
    "\t\t'two': False,\n",
    "\t\t'three': False,\n",
    "\t\t'four': True,\n",
    "\t\t'five': False\n",
    "\t}, True),\n",
    "\t({\n",
    "\t\t'one': False,\n",
    "\t\t'two': False,\n",
    "\t\t'three': False,\n",
    "\t\t'four': True,\n",
    "\t\t'five': True\n",
    "\t}, False),\n",
    "\t({\n",
    "\t\t'one': False,\n",
    "\t\t'two': True,\n",
    "\t\t'three': False,\n",
    "\t\t'four': False,\n",
    "\t\t'five': False\n",
    "\t}, True),\n",
    "\t({\n",
    "\t\t'one': True,\n",
    "\t\t'two': False,\n",
    "\t\t'three': False,\n",
    "\t\t'four': False,\n",
    "\t\t'five': True\n",
    "\t}, False)\n",
    "]\n",
    "```\n",
    "\n",
    "To help you in this step, watch the [following video](https://www.youtube.com/watch?v=-vVskDsHcVc) to learn how to build the feature set with Python and NLTK. The source code in this video can be found [here](https://pythonprogramming.net/words-as-features-nltk-tutorial/)."
   ]
  },
  {
   "cell_type": "markdown",
   "metadata": {},
   "source": [
    "[![Building Features](building-features.jpg)](https://www.youtube.com/watch?v=-vVskDsHcVc)"
   ]
  },
  {
   "cell_type": "code",
   "execution_count": 20,
   "metadata": {},
   "outputs": [],
   "source": [
    "# your code here\n",
    "word_features = [x[0] for x in top_5k]\n",
    "for i in word_features:\n",
    "    df_sample[i]=[i in x for x in df_sample['text_processed']]"
   ]
  },
  {
   "cell_type": "code",
   "execution_count": 21,
   "metadata": {},
   "outputs": [],
   "source": [
    "df_sample.drop(['flag','id','date','text'], axis=1, inplace=True)"
   ]
  },
  {
   "cell_type": "code",
   "execution_count": 22,
   "metadata": {},
   "outputs": [],
   "source": [
    "#target: the polarity of the tweet (0 = negative, 2 = neutral, 4 = positive)"
   ]
  },
  {
   "cell_type": "code",
   "execution_count": 23,
   "metadata": {},
   "outputs": [
    {
     "data": {
      "text/plain": [
       "False    1022\n",
       "True      978\n",
       "Name: positive, dtype: int64"
      ]
     },
     "execution_count": 23,
     "metadata": {},
     "output_type": "execute_result"
    }
   ],
   "source": [
    "df_sample[\"positive\"] = df_sample[\"target\"].apply(lambda t: False if t == 0 else True)\n",
    "df_sample[\"positive\"].value_counts()"
   ]
  },
  {
   "cell_type": "code",
   "execution_count": null,
   "metadata": {},
   "outputs": [],
   "source": [
    "#dict\n",
    "cols = top_5k\n",
    "words = []\n",
    "for index,row in df_sample.iterrows():\n",
    "    words_dic = {}\n",
    "    for i in cols:\n",
    "        words_dic[i] = i in row[\"text_processed\"]\n",
    "        words.append((words_dic, row[\"positive\"]))"
   ]
  },
  {
   "cell_type": "markdown",
   "metadata": {},
   "source": [
    "### Building and Traininng Naive Bayes Model\n",
    "\n",
    "In this step you will split your feature set into a training and a test set. Then you will create a Bayes classifier instance using `nltk.NaiveBayesClassifier.train` ([example](https://www.nltk.org/book/ch06.html)) to train with the training dataset.\n",
    "\n",
    "After training the model, call `classifier.show_most_informative_features()` to inspect the most important features. The output will look like:\n",
    "\n",
    "```\n",
    "Most Informative Features\n",
    "\t    snow = True            False : True   =     34.3 : 1.0\n",
    "\t  easter = True            False : True   =     26.2 : 1.0\n",
    "\t headach = True            False : True   =     20.9 : 1.0\n",
    "\t    argh = True            False : True   =     17.6 : 1.0\n",
    "\tunfortun = True            False : True   =     16.9 : 1.0\n",
    "\t    jona = True             True : False  =     16.2 : 1.0\n",
    "\t     ach = True            False : True   =     14.9 : 1.0\n",
    "\t     sad = True            False : True   =     13.0 : 1.0\n",
    "\t  parent = True            False : True   =     12.9 : 1.0\n",
    "\t  spring = True            False : True   =     12.7 : 1.0\n",
    "```\n",
    "\n",
    "The [following video](https://www.youtube.com/watch?v=rISOsUaTrO4) will help you complete this step. The source code in this video can be found [here](https://pythonprogramming.net/naive-bayes-classifier-nltk-tutorial/)."
   ]
  },
  {
   "cell_type": "markdown",
   "metadata": {},
   "source": [
    "[![Building and Training NB](nb-model-building.jpg)](https://www.youtube.com/watch?v=rISOsUaTrO4)"
   ]
  },
  {
   "cell_type": "code",
   "execution_count": null,
   "metadata": {},
   "outputs": [],
   "source": [
    "# your code here\n",
    "import nltk"
   ]
  },
  {
   "cell_type": "code",
   "execution_count": null,
   "metadata": {},
   "outputs": [],
   "source": [
    "print(len(words))"
   ]
  },
  {
   "cell_type": "code",
   "execution_count": null,
   "metadata": {},
   "outputs": [],
   "source": [
    "#train, test\n",
    "train = words[:800]\n",
    "test = words[800:]"
   ]
  },
  {
   "cell_type": "code",
   "execution_count": null,
   "metadata": {},
   "outputs": [],
   "source": [
    "#train model\n",
    "classifier = nltk.NaiveBayesClassifier.train(train)"
   ]
  },
  {
   "cell_type": "markdown",
   "metadata": {},
   "source": [
    "### Testing Naive Bayes Model\n",
    "\n",
    "Now we'll test our classifier with the test dataset. This is done by calling `nltk.classify.accuracy(classifier, test)`.\n",
    "\n",
    "As mentioned in one of the tutorial videos, a Naive Bayes model is considered OK if your accuracy score is over 0.6. If your accuracy score is over 0.7, you've done a great job!"
   ]
  },
  {
   "cell_type": "code",
   "execution_count": null,
   "metadata": {},
   "outputs": [],
   "source": [
    "# your code here\n",
    "print(f\"Accuracy: {nltk.classify.accuracy(classifier, test)}\")"
   ]
  },
  {
   "cell_type": "markdown",
   "metadata": {},
   "source": [
    "## Bonus Question 1: Improve Model Performance\n",
    "\n",
    "If you are still not exhausted so far and want to dig deeper, try to improve your classifier performance. There are many aspects you can dig into, for example:\n",
    "\n",
    "* Improve stemming and lemmatization. Inspect your bag of words and the most important features. Are there any words you should furuther remove from analysis? You can append these words to further remove to the stop words list.\n",
    "\n",
    "* Remember we only used the top 5,000 features to build model? Try using different numbers of top features. The bottom line is to use as few features as you can without compromising your model performance. The fewer features you select into your model, the faster your model is trained. Then you can use a larger sample size to improve your model accuracy score."
   ]
  },
  {
   "cell_type": "code",
   "execution_count": null,
   "metadata": {},
   "outputs": [],
   "source": [
    "# your code here"
   ]
  },
  {
   "cell_type": "markdown",
   "metadata": {},
   "source": [
    "## Bonus Question 2: Machine Learning Pipeline\n",
    "\n",
    "In a new Jupyter Notebook, combine all your codes into a function (or a class). Your new function will execute the complete machine learning pipeline job by receiving the dataset location and output the classifier. This will allow you to use your function to predict the sentiment of any tweet in real time. "
   ]
  },
  {
   "cell_type": "code",
   "execution_count": null,
   "metadata": {},
   "outputs": [],
   "source": [
    "# your code here"
   ]
  },
  {
   "cell_type": "markdown",
   "metadata": {},
   "source": [
    "## Bonus Question 3: Apache Spark\n",
    "\n",
    "If you have completed the Apache Spark advanced topic lab, what you can do is to migrate your pipeline from local to a Databricks Notebook. Share your notebook with your instructor and classmates to show off your achievements!"
   ]
  },
  {
   "cell_type": "code",
   "execution_count": null,
   "metadata": {},
   "outputs": [],
   "source": [
    "# your code here"
   ]
  }
 ],
 "metadata": {
  "kernelspec": {
   "display_name": "Python [conda env:ironhack_env]",
   "language": "python",
   "name": "conda-env-ironhack_env-py"
  },
  "language_info": {
   "codemirror_mode": {
    "name": "ipython",
    "version": 3
   },
   "file_extension": ".py",
   "mimetype": "text/x-python",
   "name": "python",
   "nbconvert_exporter": "python",
   "pygments_lexer": "ipython3",
   "version": "3.8.5"
  }
 },
 "nbformat": 4,
 "nbformat_minor": 4
}
